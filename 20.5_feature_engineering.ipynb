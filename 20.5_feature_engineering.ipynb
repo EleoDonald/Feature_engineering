{
 "cells": [
  {
   "cell_type": "markdown",
   "id": "20d02d60",
   "metadata": {
    "id": "20d02d60"
   },
   "source": [
    "# Feature Engineering. Практическая работа"
   ]
  },
  {
   "cell_type": "markdown",
   "id": "zy6qaMPhyAZd",
   "metadata": {
    "id": "zy6qaMPhyAZd"
   },
   "source": [
    "Сдаётся на проверку."
   ]
  },
  {
   "cell_type": "markdown",
   "id": "df9d0fa3",
   "metadata": {
    "id": "df9d0fa3"
   },
   "source": [
    "## Цели практической работы\n",
    "\n",
    "Научиться: \n",
    "\n",
    "*   генерировать новые признаки; \n",
    "*   нормализовать и кодировать данные с помощью lambda-функций и библиотеки scikit-learn.\n"
   ]
  },
  {
   "cell_type": "markdown",
   "id": "c4a1bdf2",
   "metadata": {
    "id": "c4a1bdf2"
   },
   "source": [
    "## Что входит в практическую работу\n",
    "\n",
    "1. Построить признаки из строк.\n",
    "2. Преобразовать категориальные переменные.\n",
    "3. Стандартизировать данные.\n",
    "4. Использовать MinMaxScaler для нормализации данных.\n",
    "5. Создать признаки на основе дат.\n",
    "6. Сохранить датафрейм для этапа моделирования."
   ]
  },
  {
   "cell_type": "markdown",
   "id": "cefde751",
   "metadata": {
    "id": "cefde751"
   },
   "source": [
    "## Что оценивается\n",
    "- Программа выдаёт верный ответ на заданном наборе данных.\n",
    "- Описаны причины выбранного решения, если требуется.\n",
    "- Код читабелен: переменным даны осмысленные названия, соблюдены отступы и правила расстановки пробелов.\n",
    "- При построении графиков название и оси подписаны, выведена легенда, если требуется. \n",
    "- Репозиторий проекта содержит осмысленные коммиты, содержащие конкретные реализованные фичи, ветки названы согласно назначению, лишние файлы не хранятся в репозитории.\n",
    "- В репозитории проекта соблюдена иерархия директорий согласно списку модулей и содержащихся в них тем.\n",
    "- Репозиторий проекта содержит файлы с данными, полученными в результате выполнения практической работы.\n"
   ]
  },
  {
   "cell_type": "markdown",
   "id": "d8cc2cfd",
   "metadata": {
    "id": "d8cc2cfd"
   },
   "source": [
    "## Как отправить работу на проверку\n",
    "Сдайте практическую работу этого модуля через систему контроля версий Git сервиса Skillbox GitLab. После загрузки работы на проверку напишите об этом в личном кабинете своему проверяющему куратору.\n"
   ]
  },
  {
   "cell_type": "markdown",
   "id": "3092d4ea",
   "metadata": {
    "id": "3092d4ea"
   },
   "source": [
    "## Задача\n",
    "\n",
    "Мы продолжим исследовать и готовить данные для этапа моделирования.\n",
    "\n",
    "Вам предстоит работать с небольшой выборкой из коллекции подержанных автомобилей, выставленных на продажу в Соединённых Штатах, представленной в файле `data/vehicles_dataset_upd.csv`. На этих данных вы построите первую модель классификации, определяющую категорию цены подержанного автомобиля в зависимости от характеристик транспортного средства.\n",
    "\n",
    "В этой практической работе вы продолжите генерировать дополнительные признаки и завершите подготовку датасета для этапа моделирования.\n",
    "\n",
    "## Описание датасета:\n",
    "- `id`— идентификатор записи;\n",
    "- `url`— URL-записи о продаже;\n",
    "- `region`— регион;\n",
    "- `region_url`— URL региона;\n",
    "- `price`— стоимость;\n",
    "- `year`— год выпуска;\n",
    "- `manufacturer`— производитель;\n",
    "- `model`— модель;\n",
    "- `condition`— состояние;\n",
    "- `cylinders`— количество цилиндров;\n",
    "- `fuel`— тип топлива;\n",
    "- `odometer`— количество пройденных миль;\n",
    "- `title_status`— статус;\n",
    "- `transmission`— коробка передач;\n",
    "- `VIN`— идентификационный номер;\n",
    "- `drive`— тип привода;\n",
    "- `size`— размер;\n",
    "- `type`— кузов;\n",
    "- `paint_color`— цвет;\n",
    "- `image_url`— URL изображения;\n",
    "- `description`— указанное описание;\n",
    "- `county`— страна;\n",
    "- `state`— штат;\n",
    "- `lat`— широта;\n",
    "- `long`— долгота;\n",
    "- `posting_date`— дата размещения объявления о продаже;\n",
    "- `price_category`— категория цены.\n"
   ]
  },
  {
   "cell_type": "code",
   "execution_count": 1,
   "id": "859c4d2b",
   "metadata": {
    "ExecuteTime": {
     "end_time": "2022-02-23T19:39:15.915860Z",
     "start_time": "2022-02-23T19:39:15.902436Z"
    },
    "id": "859c4d2b"
   },
   "outputs": [],
   "source": [
    "\n",
    "# Import necessary libraries\n",
    "import pandas as pd\n",
    "import matplotlib.pyplot as plt\n",
    "from sklearn.preprocessing import OneHotEncoder, StandardScaler, MinMaxScaler\n",
    "from datetime import datetime"
   ]
  },
  {
   "cell_type": "markdown",
   "id": "a98b05f6",
   "metadata": {
    "id": "a98b05f6"
   },
   "source": [
    "### Задача 1. Построение признаков из строк\n",
    "\n",
    "1. Загрузите датасет из `data/vehicles_dataset_upd6.csv`, выведите первые пять записей и список колонок."
   ]
  },
  {
   "cell_type": "code",
   "execution_count": 3,
   "id": "d536ad11",
   "metadata": {
    "ExecuteTime": {
     "end_time": "2022-03-15T22:40:23.588946Z",
     "start_time": "2022-03-15T22:40:23.585461Z"
    },
    "id": "d536ad11",
    "scrolled": false
   },
   "outputs": [
    {
     "name": "stdout",
     "output_type": "stream",
     "text": [
      "           id                                                url  \\\n",
      "0  7308295377  https://chattanooga.craigslist.org/ctd/d/chatt...   \n",
      "1  7316380095  https://newjersey.craigslist.org/ctd/d/carlsta...   \n",
      "2  7313733749  https://reno.craigslist.org/ctd/d/atlanta-2017...   \n",
      "3  7308210929  https://fayetteville.craigslist.org/ctd/d/rale...   \n",
      "4  7303797340  https://knoxville.craigslist.org/ctd/d/knoxvil...   \n",
      "\n",
      "         region                           region_url  price  year  \\\n",
      "0   chattanooga   https://chattanooga.craigslist.org  54990  2020   \n",
      "1  north jersey     https://newjersey.craigslist.org  16942  2016   \n",
      "2  reno / tahoe          https://reno.craigslist.org  35590  2017   \n",
      "3  fayetteville  https://fayetteville.craigslist.org  14500  2013   \n",
      "4     knoxville     https://knoxville.craigslist.org  14590  2012   \n",
      "\n",
      "  manufacturer                   model    fuel  odometer  ... is_jeep  \\\n",
      "0          ram  2500 crew cab big horn  diesel     27442  ...       0   \n",
      "1         ford    explorer 4wd 4dr xlt   other     60023  ...       0   \n",
      "2   volkswagen        golf r hatchback     gas     14048  ...       0   \n",
      "3       toyota                    rav4     gas    117291  ...       0   \n",
      "4          bmw  1 series 128i coupe 2d   other     80465  ...       0   \n",
      "\n",
      "  is_honda is_nissan x0_diesel x0_electric  x0_gas  x0_hybrid x0_other  \\\n",
      "0        0         0       1.0         0.0     0.0        0.0      0.0   \n",
      "1        0         0       0.0         0.0     0.0        0.0      1.0   \n",
      "2        0         0       0.0         0.0     1.0        0.0      0.0   \n",
      "3        0         0       0.0         0.0     1.0        0.0      0.0   \n",
      "4        0         0       0.0         0.0     0.0        0.0      1.0   \n",
      "\n",
      "  std_scaled_odometer std_scaled_price  \n",
      "0           -1.079390         2.958509  \n",
      "1           -0.560115        -0.085826  \n",
      "2           -1.292863         1.406256  \n",
      "3            0.352621        -0.281218  \n",
      "4           -0.234311        -0.274017  \n",
      "\n",
      "[5 rows x 45 columns]\n",
      "Index(['id', 'url', 'region', 'region_url', 'price', 'year', 'manufacturer',\n",
      "       'model', 'fuel', 'odometer', 'title_status', 'transmission',\n",
      "       'image_url', 'description', 'state', 'lat', 'long', 'posting_date',\n",
      "       'price_category', 'date', 'odometer_km', 'odometer/price', 'region_new',\n",
      "       'region_corrected', 'manufacturer_model', 'desc_len', 'model_in_desc',\n",
      "       'price_k$', 'age_category', 'model_len', 'model_word_count', 'is_audi',\n",
      "       'is_ford', 'is_chevrolet', 'is_toyota', 'is_jeep', 'is_honda',\n",
      "       'is_nissan', 'x0_diesel', 'x0_electric', 'x0_gas', 'x0_hybrid',\n",
      "       'x0_other', 'std_scaled_odometer', 'std_scaled_price'],\n",
      "      dtype='object')\n"
     ]
    }
   ],
   "source": [
    "# Load dataset\n",
    "df = pd.read_csv('C:\\\\Users\\\\user\\\\Downloads\\\\vehicles_dataset_upd6.csv')\n",
    "print(df.head())\n",
    "print(df.columns)"
   ]
  },
  {
   "cell_type": "markdown",
   "id": "c46630e3",
   "metadata": {
    "id": "c46630e3"
   },
   "source": [
    "2. Выведите список значений и количество уникальных значений для модели автомобиля."
   ]
  },
  {
   "cell_type": "code",
   "execution_count": 3,
   "id": "12c123d6",
   "metadata": {
    "ExecuteTime": {
     "end_time": "2022-03-15T22:40:29.330321Z",
     "start_time": "2022-03-15T22:40:29.326988Z"
    },
    "id": "12c123d6"
   },
   "outputs": [
    {
     "name": "stdout",
     "output_type": "stream",
     "text": [
      "f-150                        145\n",
      "other                        107\n",
      "silverado 1500               105\n",
      "1500                          99\n",
      "camry                         76\n",
      "                            ... \n",
      "sierra1500 crewcab 4x4         1\n",
      "corolla se                     1\n",
      "xc60 t6 inscription sport      1\n",
      "silverado 1500 ls              1\n",
      "a3 2.0t premium plus pzev      1\n",
      "Name: model, Length: 3341, dtype: int64\n",
      "3341\n"
     ]
    }
   ],
   "source": [
    "# List unique values for car model\n",
    "print(df['model'].value_counts())\n",
    "print(df['model'].nunique())"
   ]
  },
  {
   "cell_type": "markdown",
   "id": "bcf1904b",
   "metadata": {
    "id": "bcf1904b"
   },
   "source": [
    "3. Количество уникальных значений велико. Попробуем их сократить, оставив только первое слово в наименовании модели. С помощью lambda-функции и преобразования над строками создайте новый признак `short_model`, содержащий только первое слово из наименования модели, выведите его и количество получившихся уникальных значений."
   ]
  },
  {
   "cell_type": "code",
   "execution_count": 4,
   "id": "6de1d535",
   "metadata": {
    "ExecuteTime": {
     "end_time": "2022-03-15T22:40:30.465505Z",
     "start_time": "2022-03-15T22:40:30.460032Z"
    },
    "id": "6de1d535"
   },
   "outputs": [
    {
     "name": "stdout",
     "output_type": "stream",
     "text": [
      "silverado    392\n",
      "1500         205\n",
      "wrangler     204\n",
      "grand        201\n",
      "f-150        197\n",
      "            ... \n",
      "sle            1\n",
      "classuc        1\n",
      "s3             1\n",
      "cts-v          1\n",
      "gs350          1\n",
      "Name: short_model, Length: 943, dtype: int64\n",
      "943\n"
     ]
    }
   ],
   "source": [
    "# 3\n",
    "df['short_model'] = df['model'].apply(lambda x: str(x).split(' ')[0])\n",
    "print(df['short_model'].value_counts())\n",
    "print(df['short_model'].nunique())\n"
   ]
  },
  {
   "cell_type": "markdown",
   "id": "f8266e27",
   "metadata": {
    "ExecuteTime": {
     "end_time": "2022-01-28T23:12:51.463454Z",
     "start_time": "2022-01-28T23:12:51.458075Z"
    },
    "id": "f8266e27"
   },
   "source": [
    "### Задача 2. Преобразование категориальных переменных\n",
    "\n",
    "1. Для категориальных переменных `short_model`, `transmission`, `region`, `manufacturer`, `state`, `title_status`, `age_category` распечатайте наименование категории и количество уникальных значений в ней.\n"
   ]
  },
  {
   "cell_type": "code",
   "execution_count": 5,
   "id": "a839bd7c",
   "metadata": {
    "ExecuteTime": {
     "end_time": "2022-03-15T22:40:31.559424Z",
     "start_time": "2022-03-15T22:40:31.552170Z"
    },
    "id": "a839bd7c"
   },
   "outputs": [
    {
     "name": "stdout",
     "output_type": "stream",
     "text": [
      "short_model unique values: 943\n",
      "\n",
      "transmission unique values: 3\n",
      "\n",
      "region unique values: 393\n",
      "\n",
      "manufacturer unique values: 40\n",
      "\n",
      "state unique values: 51\n",
      "\n",
      "title_status unique values: 6\n",
      "\n",
      "age_category unique values: 3\n",
      "\n"
     ]
    }
   ],
   "source": [
    "# 4\n",
    "categorical_cols = ['short_model', 'transmission', 'region', 'manufacturer', 'state', 'title_status', 'age_category']\n",
    "for col in categorical_cols:\n",
    "    print(f\"{col} unique values: {df[col].nunique()}\")\n",
    "    print(\"\")"
   ]
  },
  {
   "cell_type": "markdown",
   "id": "6d22ddcd",
   "metadata": {
    "id": "6d22ddcd"
   },
   "source": [
    "2. Создайте датафрейм `data`, содержащий только выбранные категориальные переменные."
   ]
  },
  {
   "cell_type": "code",
   "execution_count": 6,
   "id": "c6fb4d53",
   "metadata": {
    "ExecuteTime": {
     "end_time": "2022-03-15T22:40:32.233510Z",
     "start_time": "2022-03-15T22:40:32.226777Z"
    },
    "id": "c6fb4d53"
   },
   "outputs": [
    {
     "name": "stdout",
     "output_type": "stream",
     "text": [
      "     short_model transmission                   region manufacturer state  \\\n",
      "0           2500        other              chattanooga          ram    tn   \n",
      "1       explorer    automatic             north jersey         ford    nj   \n",
      "2           golf        other             reno / tahoe   volkswagen    ca   \n",
      "3           rav4    automatic             fayetteville       toyota    nc   \n",
      "4              1        other                knoxville          bmw    tn   \n",
      "...          ...          ...                      ...          ...   ...   \n",
      "9614        rav4    automatic               chautauqua       toyota    ny   \n",
      "9615    wrangler        other               binghamton         jeep    ny   \n",
      "9616          a3    automatic                    salem         audi    or   \n",
      "9617     cayenne    automatic                  madison      porsche    wi   \n",
      "9618        1500        other  norfolk / hampton roads          ram    va   \n",
      "\n",
      "     title_status age_category  \n",
      "0           clean          new  \n",
      "1           clean          new  \n",
      "2           clean          new  \n",
      "3           clean      average  \n",
      "4           clean      average  \n",
      "...           ...          ...  \n",
      "9614        clean          old  \n",
      "9615        clean      average  \n",
      "9616        clean      average  \n",
      "9617        clean          new  \n",
      "9618        clean          new  \n",
      "\n",
      "[9619 rows x 7 columns]\n"
     ]
    }
   ],
   "source": [
    "# 5\n",
    "data = df[categorical_cols]\n",
    "print(data)"
   ]
  },
  {
   "cell_type": "markdown",
   "id": "cac34814",
   "metadata": {
    "id": "cac34814"
   },
   "source": [
    "3. Создайте объект класса OneHotEncoder, который будет отвечать за преобразование. Уточните, что на выходе должна быть неразреженная матрица."
   ]
  },
  {
   "cell_type": "code",
   "execution_count": 7,
   "id": "d16c54e7",
   "metadata": {},
   "outputs": [
    {
     "data": {
      "text/html": [
       "<style>#sk-container-id-1 {color: black;background-color: white;}#sk-container-id-1 pre{padding: 0;}#sk-container-id-1 div.sk-toggleable {background-color: white;}#sk-container-id-1 label.sk-toggleable__label {cursor: pointer;display: block;width: 100%;margin-bottom: 0;padding: 0.3em;box-sizing: border-box;text-align: center;}#sk-container-id-1 label.sk-toggleable__label-arrow:before {content: \"▸\";float: left;margin-right: 0.25em;color: #696969;}#sk-container-id-1 label.sk-toggleable__label-arrow:hover:before {color: black;}#sk-container-id-1 div.sk-estimator:hover label.sk-toggleable__label-arrow:before {color: black;}#sk-container-id-1 div.sk-toggleable__content {max-height: 0;max-width: 0;overflow: hidden;text-align: left;background-color: #f0f8ff;}#sk-container-id-1 div.sk-toggleable__content pre {margin: 0.2em;color: black;border-radius: 0.25em;background-color: #f0f8ff;}#sk-container-id-1 input.sk-toggleable__control:checked~div.sk-toggleable__content {max-height: 200px;max-width: 100%;overflow: auto;}#sk-container-id-1 input.sk-toggleable__control:checked~label.sk-toggleable__label-arrow:before {content: \"▾\";}#sk-container-id-1 div.sk-estimator input.sk-toggleable__control:checked~label.sk-toggleable__label {background-color: #d4ebff;}#sk-container-id-1 div.sk-label input.sk-toggleable__control:checked~label.sk-toggleable__label {background-color: #d4ebff;}#sk-container-id-1 input.sk-hidden--visually {border: 0;clip: rect(1px 1px 1px 1px);clip: rect(1px, 1px, 1px, 1px);height: 1px;margin: -1px;overflow: hidden;padding: 0;position: absolute;width: 1px;}#sk-container-id-1 div.sk-estimator {font-family: monospace;background-color: #f0f8ff;border: 1px dotted black;border-radius: 0.25em;box-sizing: border-box;margin-bottom: 0.5em;}#sk-container-id-1 div.sk-estimator:hover {background-color: #d4ebff;}#sk-container-id-1 div.sk-parallel-item::after {content: \"\";width: 100%;border-bottom: 1px solid gray;flex-grow: 1;}#sk-container-id-1 div.sk-label:hover label.sk-toggleable__label {background-color: #d4ebff;}#sk-container-id-1 div.sk-serial::before {content: \"\";position: absolute;border-left: 1px solid gray;box-sizing: border-box;top: 0;bottom: 0;left: 50%;z-index: 0;}#sk-container-id-1 div.sk-serial {display: flex;flex-direction: column;align-items: center;background-color: white;padding-right: 0.2em;padding-left: 0.2em;position: relative;}#sk-container-id-1 div.sk-item {position: relative;z-index: 1;}#sk-container-id-1 div.sk-parallel {display: flex;align-items: stretch;justify-content: center;background-color: white;position: relative;}#sk-container-id-1 div.sk-item::before, #sk-container-id-1 div.sk-parallel-item::before {content: \"\";position: absolute;border-left: 1px solid gray;box-sizing: border-box;top: 0;bottom: 0;left: 50%;z-index: -1;}#sk-container-id-1 div.sk-parallel-item {display: flex;flex-direction: column;z-index: 1;position: relative;background-color: white;}#sk-container-id-1 div.sk-parallel-item:first-child::after {align-self: flex-end;width: 50%;}#sk-container-id-1 div.sk-parallel-item:last-child::after {align-self: flex-start;width: 50%;}#sk-container-id-1 div.sk-parallel-item:only-child::after {width: 0;}#sk-container-id-1 div.sk-dashed-wrapped {border: 1px dashed gray;margin: 0 0.4em 0.5em 0.4em;box-sizing: border-box;padding-bottom: 0.4em;background-color: white;}#sk-container-id-1 div.sk-label label {font-family: monospace;font-weight: bold;display: inline-block;line-height: 1.2em;}#sk-container-id-1 div.sk-label-container {text-align: center;}#sk-container-id-1 div.sk-container {/* jupyter's `normalize.less` sets `[hidden] { display: none; }` but bootstrap.min.css set `[hidden] { display: none !important; }` so we also need the `!important` here to be able to override the default hidden behavior on the sphinx rendered scikit-learn.org. See: https://github.com/scikit-learn/scikit-learn/issues/21755 */display: inline-block !important;position: relative;}#sk-container-id-1 div.sk-text-repr-fallback {display: none;}</style><div id=\"sk-container-id-1\" class=\"sk-top-container\"><div class=\"sk-text-repr-fallback\"><pre>OneHotEncoder(sparse=False)</pre><b>In a Jupyter environment, please rerun this cell to show the HTML representation or trust the notebook. <br />On GitHub, the HTML representation is unable to render, please try loading this page with nbviewer.org.</b></div><div class=\"sk-container\" hidden><div class=\"sk-item\"><div class=\"sk-estimator sk-toggleable\"><input class=\"sk-toggleable__control sk-hidden--visually\" id=\"sk-estimator-id-1\" type=\"checkbox\" checked><label for=\"sk-estimator-id-1\" class=\"sk-toggleable__label sk-toggleable__label-arrow\">OneHotEncoder</label><div class=\"sk-toggleable__content\"><pre>OneHotEncoder(sparse=False)</pre></div></div></div></div></div>"
      ],
      "text/plain": [
       "OneHotEncoder(sparse=False)"
      ]
     },
     "execution_count": 7,
     "metadata": {},
     "output_type": "execute_result"
    }
   ],
   "source": [
    "# 6\n",
    "one_hot_encoder = OneHotEncoder(sparse=False)\n",
    "one_hot_encoder"
   ]
  },
  {
   "cell_type": "code",
   "execution_count": 8,
   "id": "5c64ca58",
   "metadata": {
    "ExecuteTime": {
     "end_time": "2022-03-15T22:40:33.034009Z",
     "start_time": "2022-03-15T22:40:33.028764Z"
    },
    "id": "5c64ca58"
   },
   "outputs": [
    {
     "name": "stderr",
     "output_type": "stream",
     "text": [
      "c:\\Users\\User\\anaconda3\\lib\\site-packages\\sklearn\\preprocessing\\_encoders.py:828: FutureWarning: `sparse` was renamed to `sparse_output` in version 1.2 and will be removed in 1.4. `sparse_output` is ignored unless you leave `sparse` to its default value.\n",
      "  warnings.warn(\n"
     ]
    },
    {
     "data": {
      "text/html": [
       "<style>#sk-container-id-2 {color: black;background-color: white;}#sk-container-id-2 pre{padding: 0;}#sk-container-id-2 div.sk-toggleable {background-color: white;}#sk-container-id-2 label.sk-toggleable__label {cursor: pointer;display: block;width: 100%;margin-bottom: 0;padding: 0.3em;box-sizing: border-box;text-align: center;}#sk-container-id-2 label.sk-toggleable__label-arrow:before {content: \"▸\";float: left;margin-right: 0.25em;color: #696969;}#sk-container-id-2 label.sk-toggleable__label-arrow:hover:before {color: black;}#sk-container-id-2 div.sk-estimator:hover label.sk-toggleable__label-arrow:before {color: black;}#sk-container-id-2 div.sk-toggleable__content {max-height: 0;max-width: 0;overflow: hidden;text-align: left;background-color: #f0f8ff;}#sk-container-id-2 div.sk-toggleable__content pre {margin: 0.2em;color: black;border-radius: 0.25em;background-color: #f0f8ff;}#sk-container-id-2 input.sk-toggleable__control:checked~div.sk-toggleable__content {max-height: 200px;max-width: 100%;overflow: auto;}#sk-container-id-2 input.sk-toggleable__control:checked~label.sk-toggleable__label-arrow:before {content: \"▾\";}#sk-container-id-2 div.sk-estimator input.sk-toggleable__control:checked~label.sk-toggleable__label {background-color: #d4ebff;}#sk-container-id-2 div.sk-label input.sk-toggleable__control:checked~label.sk-toggleable__label {background-color: #d4ebff;}#sk-container-id-2 input.sk-hidden--visually {border: 0;clip: rect(1px 1px 1px 1px);clip: rect(1px, 1px, 1px, 1px);height: 1px;margin: -1px;overflow: hidden;padding: 0;position: absolute;width: 1px;}#sk-container-id-2 div.sk-estimator {font-family: monospace;background-color: #f0f8ff;border: 1px dotted black;border-radius: 0.25em;box-sizing: border-box;margin-bottom: 0.5em;}#sk-container-id-2 div.sk-estimator:hover {background-color: #d4ebff;}#sk-container-id-2 div.sk-parallel-item::after {content: \"\";width: 100%;border-bottom: 1px solid gray;flex-grow: 1;}#sk-container-id-2 div.sk-label:hover label.sk-toggleable__label {background-color: #d4ebff;}#sk-container-id-2 div.sk-serial::before {content: \"\";position: absolute;border-left: 1px solid gray;box-sizing: border-box;top: 0;bottom: 0;left: 50%;z-index: 0;}#sk-container-id-2 div.sk-serial {display: flex;flex-direction: column;align-items: center;background-color: white;padding-right: 0.2em;padding-left: 0.2em;position: relative;}#sk-container-id-2 div.sk-item {position: relative;z-index: 1;}#sk-container-id-2 div.sk-parallel {display: flex;align-items: stretch;justify-content: center;background-color: white;position: relative;}#sk-container-id-2 div.sk-item::before, #sk-container-id-2 div.sk-parallel-item::before {content: \"\";position: absolute;border-left: 1px solid gray;box-sizing: border-box;top: 0;bottom: 0;left: 50%;z-index: -1;}#sk-container-id-2 div.sk-parallel-item {display: flex;flex-direction: column;z-index: 1;position: relative;background-color: white;}#sk-container-id-2 div.sk-parallel-item:first-child::after {align-self: flex-end;width: 50%;}#sk-container-id-2 div.sk-parallel-item:last-child::after {align-self: flex-start;width: 50%;}#sk-container-id-2 div.sk-parallel-item:only-child::after {width: 0;}#sk-container-id-2 div.sk-dashed-wrapped {border: 1px dashed gray;margin: 0 0.4em 0.5em 0.4em;box-sizing: border-box;padding-bottom: 0.4em;background-color: white;}#sk-container-id-2 div.sk-label label {font-family: monospace;font-weight: bold;display: inline-block;line-height: 1.2em;}#sk-container-id-2 div.sk-label-container {text-align: center;}#sk-container-id-2 div.sk-container {/* jupyter's `normalize.less` sets `[hidden] { display: none; }` but bootstrap.min.css set `[hidden] { display: none !important; }` so we also need the `!important` here to be able to override the default hidden behavior on the sphinx rendered scikit-learn.org. See: https://github.com/scikit-learn/scikit-learn/issues/21755 */display: inline-block !important;position: relative;}#sk-container-id-2 div.sk-text-repr-fallback {display: none;}</style><div id=\"sk-container-id-2\" class=\"sk-top-container\"><div class=\"sk-text-repr-fallback\"><pre>OneHotEncoder(sparse=False, sparse_output=False)</pre><b>In a Jupyter environment, please rerun this cell to show the HTML representation or trust the notebook. <br />On GitHub, the HTML representation is unable to render, please try loading this page with nbviewer.org.</b></div><div class=\"sk-container\" hidden><div class=\"sk-item\"><div class=\"sk-estimator sk-toggleable\"><input class=\"sk-toggleable__control sk-hidden--visually\" id=\"sk-estimator-id-2\" type=\"checkbox\" checked><label for=\"sk-estimator-id-2\" class=\"sk-toggleable__label sk-toggleable__label-arrow\">OneHotEncoder</label><div class=\"sk-toggleable__content\"><pre>OneHotEncoder(sparse=False, sparse_output=False)</pre></div></div></div></div></div>"
      ],
      "text/plain": [
       "OneHotEncoder(sparse=False, sparse_output=False)"
      ]
     },
     "execution_count": 8,
     "metadata": {},
     "output_type": "execute_result"
    }
   ],
   "source": [
    "# 7\n",
    "one_hot_encoder.fit(data)"
   ]
  },
  {
   "cell_type": "markdown",
   "id": "26a44ecc",
   "metadata": {
    "id": "26a44ecc"
   },
   "source": [
    "4. Идентифицируйте параметры преобразования на датафрейме с категориальными переменными."
   ]
  },
  {
   "cell_type": "code",
   "execution_count": 9,
   "id": "579eed5b",
   "metadata": {},
   "outputs": [
    {
     "name": "stderr",
     "output_type": "stream",
     "text": [
      "c:\\Users\\User\\anaconda3\\lib\\site-packages\\sklearn\\preprocessing\\_encoders.py:828: FutureWarning: `sparse` was renamed to `sparse_output` in version 1.2 and will be removed in 1.4. `sparse_output` is ignored unless you leave `sparse` to its default value.\n",
      "  warnings.warn(\n"
     ]
    },
    {
     "data": {
      "text/html": [
       "<style>#sk-container-id-3 {color: black;background-color: white;}#sk-container-id-3 pre{padding: 0;}#sk-container-id-3 div.sk-toggleable {background-color: white;}#sk-container-id-3 label.sk-toggleable__label {cursor: pointer;display: block;width: 100%;margin-bottom: 0;padding: 0.3em;box-sizing: border-box;text-align: center;}#sk-container-id-3 label.sk-toggleable__label-arrow:before {content: \"▸\";float: left;margin-right: 0.25em;color: #696969;}#sk-container-id-3 label.sk-toggleable__label-arrow:hover:before {color: black;}#sk-container-id-3 div.sk-estimator:hover label.sk-toggleable__label-arrow:before {color: black;}#sk-container-id-3 div.sk-toggleable__content {max-height: 0;max-width: 0;overflow: hidden;text-align: left;background-color: #f0f8ff;}#sk-container-id-3 div.sk-toggleable__content pre {margin: 0.2em;color: black;border-radius: 0.25em;background-color: #f0f8ff;}#sk-container-id-3 input.sk-toggleable__control:checked~div.sk-toggleable__content {max-height: 200px;max-width: 100%;overflow: auto;}#sk-container-id-3 input.sk-toggleable__control:checked~label.sk-toggleable__label-arrow:before {content: \"▾\";}#sk-container-id-3 div.sk-estimator input.sk-toggleable__control:checked~label.sk-toggleable__label {background-color: #d4ebff;}#sk-container-id-3 div.sk-label input.sk-toggleable__control:checked~label.sk-toggleable__label {background-color: #d4ebff;}#sk-container-id-3 input.sk-hidden--visually {border: 0;clip: rect(1px 1px 1px 1px);clip: rect(1px, 1px, 1px, 1px);height: 1px;margin: -1px;overflow: hidden;padding: 0;position: absolute;width: 1px;}#sk-container-id-3 div.sk-estimator {font-family: monospace;background-color: #f0f8ff;border: 1px dotted black;border-radius: 0.25em;box-sizing: border-box;margin-bottom: 0.5em;}#sk-container-id-3 div.sk-estimator:hover {background-color: #d4ebff;}#sk-container-id-3 div.sk-parallel-item::after {content: \"\";width: 100%;border-bottom: 1px solid gray;flex-grow: 1;}#sk-container-id-3 div.sk-label:hover label.sk-toggleable__label {background-color: #d4ebff;}#sk-container-id-3 div.sk-serial::before {content: \"\";position: absolute;border-left: 1px solid gray;box-sizing: border-box;top: 0;bottom: 0;left: 50%;z-index: 0;}#sk-container-id-3 div.sk-serial {display: flex;flex-direction: column;align-items: center;background-color: white;padding-right: 0.2em;padding-left: 0.2em;position: relative;}#sk-container-id-3 div.sk-item {position: relative;z-index: 1;}#sk-container-id-3 div.sk-parallel {display: flex;align-items: stretch;justify-content: center;background-color: white;position: relative;}#sk-container-id-3 div.sk-item::before, #sk-container-id-3 div.sk-parallel-item::before {content: \"\";position: absolute;border-left: 1px solid gray;box-sizing: border-box;top: 0;bottom: 0;left: 50%;z-index: -1;}#sk-container-id-3 div.sk-parallel-item {display: flex;flex-direction: column;z-index: 1;position: relative;background-color: white;}#sk-container-id-3 div.sk-parallel-item:first-child::after {align-self: flex-end;width: 50%;}#sk-container-id-3 div.sk-parallel-item:last-child::after {align-self: flex-start;width: 50%;}#sk-container-id-3 div.sk-parallel-item:only-child::after {width: 0;}#sk-container-id-3 div.sk-dashed-wrapped {border: 1px dashed gray;margin: 0 0.4em 0.5em 0.4em;box-sizing: border-box;padding-bottom: 0.4em;background-color: white;}#sk-container-id-3 div.sk-label label {font-family: monospace;font-weight: bold;display: inline-block;line-height: 1.2em;}#sk-container-id-3 div.sk-label-container {text-align: center;}#sk-container-id-3 div.sk-container {/* jupyter's `normalize.less` sets `[hidden] { display: none; }` but bootstrap.min.css set `[hidden] { display: none !important; }` so we also need the `!important` here to be able to override the default hidden behavior on the sphinx rendered scikit-learn.org. See: https://github.com/scikit-learn/scikit-learn/issues/21755 */display: inline-block !important;position: relative;}#sk-container-id-3 div.sk-text-repr-fallback {display: none;}</style><div id=\"sk-container-id-3\" class=\"sk-top-container\"><div class=\"sk-text-repr-fallback\"><pre>OneHotEncoder(sparse=False, sparse_output=False)</pre><b>In a Jupyter environment, please rerun this cell to show the HTML representation or trust the notebook. <br />On GitHub, the HTML representation is unable to render, please try loading this page with nbviewer.org.</b></div><div class=\"sk-container\" hidden><div class=\"sk-item\"><div class=\"sk-estimator sk-toggleable\"><input class=\"sk-toggleable__control sk-hidden--visually\" id=\"sk-estimator-id-3\" type=\"checkbox\" checked><label for=\"sk-estimator-id-3\" class=\"sk-toggleable__label sk-toggleable__label-arrow\">OneHotEncoder</label><div class=\"sk-toggleable__content\"><pre>OneHotEncoder(sparse=False, sparse_output=False)</pre></div></div></div></div></div>"
      ],
      "text/plain": [
       "OneHotEncoder(sparse=False, sparse_output=False)"
      ]
     },
     "execution_count": 9,
     "metadata": {},
     "output_type": "execute_result"
    }
   ],
   "source": [
    "# 7\n",
    "one_hot_encoder.fit(data)"
   ]
  },
  {
   "cell_type": "code",
   "execution_count": 14,
   "id": "fa9de9fe",
   "metadata": {
    "scrolled": true
   },
   "outputs": [
    {
     "name": "stdout",
     "output_type": "stream",
     "text": [
      "[[0. 0. 0. ... 0. 1. 0.]\n",
      " [0. 0. 0. ... 0. 1. 0.]\n",
      " [0. 0. 0. ... 0. 1. 0.]\n",
      " ...\n",
      " [0. 0. 0. ... 1. 0. 0.]\n",
      " [0. 0. 0. ... 0. 1. 0.]\n",
      " [0. 0. 0. ... 0. 1. 0.]]\n",
      "(9619, 3837)\n"
     ]
    }
   ],
   "source": [
    "# 8\n",
    "one_hot_encoded = one_hot_encoder.transform(data)\n",
    "print(one_hot_encoded)\n",
    "print(one_hot_encoded.shape)"
   ]
  },
  {
   "cell_type": "markdown",
   "id": "e5504b8d",
   "metadata": {
    "id": "e5504b8d"
   },
   "source": [
    "5. Примените преобразование для датафрейма с категориальными переменными и сохраните в новую переменную, распечатайте получившуюся матрицу и её размерность."
   ]
  },
  {
   "cell_type": "code",
   "execution_count": 10,
   "id": "1107de6f",
   "metadata": {},
   "outputs": [
    {
     "name": "stdout",
     "output_type": "stream",
     "text": [
      "[[0. 0. 0. ... 0. 1. 0.]\n",
      " [0. 0. 0. ... 0. 1. 0.]\n",
      " [0. 0. 0. ... 0. 1. 0.]\n",
      " ...\n",
      " [0. 0. 0. ... 1. 0. 0.]\n",
      " [0. 0. 0. ... 0. 1. 0.]\n",
      " [0. 0. 0. ... 0. 1. 0.]]\n",
      "(9619, 1439)\n"
     ]
    }
   ],
   "source": [
    "# 8\n",
    "one_hot_encoded = one_hot_encoder.transform(data)\n",
    "print(one_hot_encoded)\n",
    "print(one_hot_encoded.shape)"
   ]
  },
  {
   "cell_type": "markdown",
   "id": "5c21b616",
   "metadata": {},
   "source": [
    "6.Выведите новые наименования признаков с помощью метода get_feature_names_out."
   ]
  },
  {
   "cell_type": "code",
   "execution_count": 12,
   "id": "5d30336e",
   "metadata": {},
   "outputs": [
    {
     "name": "stdout",
     "output_type": "stream",
     "text": [
      "['short_model_-benz' 'short_model_1' 'short_model_124' ...\n",
      " 'age_category_average' 'age_category_new' 'age_category_old']\n"
     ]
    }
   ],
   "source": [
    "# 9\n",
    "feature_names = one_hot_encoder.get_feature_names_out(categorical_cols)\n",
    "print(feature_names)"
   ]
  },
  {
   "cell_type": "markdown",
   "id": "115aed73",
   "metadata": {
    "id": "115aed73"
   },
   "source": [
    "7. Добавьте в исходный датафрейм получившиеся новые признаки, выведите первые пять записей датафрейма и список колонок."
   ]
  },
  {
   "cell_type": "code",
   "execution_count": 13,
   "id": "0062ac07",
   "metadata": {
    "ExecuteTime": {
     "end_time": "2022-03-15T22:40:35.978083Z",
     "start_time": "2022-03-15T22:40:35.970249Z"
    },
    "id": "0062ac07",
    "scrolled": true
   },
   "outputs": [
    {
     "name": "stdout",
     "output_type": "stream",
     "text": [
      "           id                                                url  \\\n",
      "0  7308295377  https://chattanooga.craigslist.org/ctd/d/chatt...   \n",
      "1  7316380095  https://newjersey.craigslist.org/ctd/d/carlsta...   \n",
      "2  7313733749  https://reno.craigslist.org/ctd/d/atlanta-2017...   \n",
      "3  7308210929  https://fayetteville.craigslist.org/ctd/d/rale...   \n",
      "4  7303797340  https://knoxville.craigslist.org/ctd/d/knoxvil...   \n",
      "\n",
      "         region                           region_url  price  year  \\\n",
      "0   chattanooga   https://chattanooga.craigslist.org  54990  2020   \n",
      "1  north jersey     https://newjersey.craigslist.org  16942  2016   \n",
      "2  reno / tahoe          https://reno.craigslist.org  35590  2017   \n",
      "3  fayetteville  https://fayetteville.craigslist.org  14500  2013   \n",
      "4     knoxville     https://knoxville.craigslist.org  14590  2012   \n",
      "\n",
      "  manufacturer                   model    fuel  odometer  ... state_wy  \\\n",
      "0          ram  2500 crew cab big horn  diesel     27442  ...      0.0   \n",
      "1         ford    explorer 4wd 4dr xlt   other     60023  ...      0.0   \n",
      "2   volkswagen        golf r hatchback     gas     14048  ...      0.0   \n",
      "3       toyota                    rav4     gas    117291  ...      0.0   \n",
      "4          bmw  1 series 128i coupe 2d   other     80465  ...      0.0   \n",
      "\n",
      "  title_status_clean title_status_lien title_status_missing  \\\n",
      "0                1.0               0.0                  0.0   \n",
      "1                1.0               0.0                  0.0   \n",
      "2                1.0               0.0                  0.0   \n",
      "3                1.0               0.0                  0.0   \n",
      "4                1.0               0.0                  0.0   \n",
      "\n",
      "  title_status_parts only  title_status_rebuilt  title_status_salvage  \\\n",
      "0                     0.0                   0.0                   0.0   \n",
      "1                     0.0                   0.0                   0.0   \n",
      "2                     0.0                   0.0                   0.0   \n",
      "3                     0.0                   0.0                   0.0   \n",
      "4                     0.0                   0.0                   0.0   \n",
      "\n",
      "  age_category_average age_category_new age_category_old  \n",
      "0                  0.0              1.0              0.0  \n",
      "1                  0.0              1.0              0.0  \n",
      "2                  0.0              1.0              0.0  \n",
      "3                  1.0              0.0              0.0  \n",
      "4                  1.0              0.0              0.0  \n",
      "\n",
      "[5 rows x 1485 columns]\n",
      "Index(['id', 'url', 'region', 'region_url', 'price', 'year', 'manufacturer',\n",
      "       'model', 'fuel', 'odometer',\n",
      "       ...\n",
      "       'state_wy', 'title_status_clean', 'title_status_lien',\n",
      "       'title_status_missing', 'title_status_parts only',\n",
      "       'title_status_rebuilt', 'title_status_salvage', 'age_category_average',\n",
      "       'age_category_new', 'age_category_old'],\n",
      "      dtype='object', length=1485)\n"
     ]
    }
   ],
   "source": [
    "# 10\n",
    "df_encoded = pd.DataFrame(one_hot_encoded, columns=feature_names)\n",
    "df = pd.concat([df, df_encoded], axis=1)\n",
    "print(df.head())\n",
    "print(df.columns)\n"
   ]
  },
  {
   "cell_type": "markdown",
   "id": "4eddeddb",
   "metadata": {
    "id": "4eddeddb"
   },
   "source": [
    "8. Посмотрите на результат обратного преобразования получившейся матрицы в исходные признаки, используйте `inverse_transform`."
   ]
  },
  {
   "cell_type": "code",
   "execution_count": 14,
   "id": "82a41cd9",
   "metadata": {},
   "outputs": [
    {
     "name": "stdout",
     "output_type": "stream",
     "text": [
      "[['2500' 'other' 'chattanooga' ... 'tn' 'clean' 'new']\n",
      " ['explorer' 'automatic' 'north jersey' ... 'nj' 'clean' 'new']\n",
      " ['golf' 'other' 'reno / tahoe' ... 'ca' 'clean' 'new']\n",
      " ...\n",
      " ['a3' 'automatic' 'salem' ... 'or' 'clean' 'average']\n",
      " ['cayenne' 'automatic' 'madison' ... 'wi' 'clean' 'new']\n",
      " ['1500' 'other' 'norfolk / hampton roads' ... 'va' 'clean' 'new']]\n"
     ]
    }
   ],
   "source": [
    "# 11\n",
    "original_data = one_hot_encoder.inverse_transform(one_hot_encoded)\n",
    "print(original_data)"
   ]
  },
  {
   "cell_type": "markdown",
   "id": "29bad2c6",
   "metadata": {
    "id": "29bad2c6"
   },
   "source": [
    "### Задача 3. Стандартизация данных\n",
    "\n",
    "1. Создайте переменную под количественные переменные `lat`, `long`, `year`, `odometer/price`, `desc_len`, `model_in_desc`, `model_len`, `model_word_count` и создайте датафрейм `data`, содержащий только выбранные количественные переменные.\n"
   ]
  },
  {
   "cell_type": "code",
   "execution_count": 16,
   "id": "ad704812",
   "metadata": {
    "ExecuteTime": {
     "end_time": "2022-03-15T22:40:45.881773Z",
     "start_time": "2022-03-15T22:40:45.875957Z"
    },
    "id": "ad704812"
   },
   "outputs": [
    {
     "name": "stdout",
     "output_type": "stream",
     "text": [
      "            lat        long  year  odometer/price  desc_len  model_in_desc  \\\n",
      "0     35.060000  -85.250000  2020        0.499036      4482              0   \n",
      "1     40.821805  -74.061962  2016        3.542852       968              0   \n",
      "2     33.779214  -84.411811  2017        0.394718      4286              0   \n",
      "3     35.715954  -78.655304  2013        8.089034      3241              0   \n",
      "4     35.970000  -83.940000  2012        5.515079      4851              0   \n",
      "...         ...         ...   ...             ...       ...            ...   \n",
      "9614  42.123900  -79.189500  2002       33.370412      1710              0   \n",
      "9615  43.216990  -77.755610  2008        7.835323       948              0   \n",
      "9616  44.925908 -122.982753  2011       16.696387       909              0   \n",
      "9617  43.029559  -89.397796  2015        1.941787      3644              0   \n",
      "9618  36.670000  -76.300000  2017        1.122882      4483              0   \n",
      "\n",
      "      model_len  model_word_count  \n",
      "0            22                 5  \n",
      "1            20                 4  \n",
      "2            16                 3  \n",
      "3             4                 1  \n",
      "4            22                 5  \n",
      "...         ...               ...  \n",
      "9614          4                 1  \n",
      "9615          8                 1  \n",
      "9616         25                 5  \n",
      "9617          7                 1  \n",
      "9618         22                 5  \n",
      "\n",
      "[9619 rows x 8 columns]\n"
     ]
    }
   ],
   "source": [
    "# 12\n",
    "numeric_cols = ['lat', 'long', 'year', 'odometer/price', 'desc_len', 'model_in_desc', 'model_len', 'model_word_count']\n",
    "data_numeric = df[numeric_cols]\n",
    "print(data_numeric)"
   ]
  },
  {
   "cell_type": "markdown",
   "id": "3e3704a7",
   "metadata": {
    "id": "3e3704a7"
   },
   "source": [
    "2. Создайте объект `std_scaler` класса StandardScaler с параметрами по умолчанию, который будет отвечать за стандартизацию."
   ]
  },
  {
   "cell_type": "code",
   "execution_count": 30,
   "id": "7b8ab72c",
   "metadata": {
    "ExecuteTime": {
     "end_time": "2022-03-15T22:40:46.294618Z",
     "start_time": "2022-03-15T22:40:46.288462Z"
    },
    "id": "7b8ab72c",
    "scrolled": true
   },
   "outputs": [
    {
     "data": {
      "text/html": [
       "<style>#sk-container-id-6 {color: black;background-color: white;}#sk-container-id-6 pre{padding: 0;}#sk-container-id-6 div.sk-toggleable {background-color: white;}#sk-container-id-6 label.sk-toggleable__label {cursor: pointer;display: block;width: 100%;margin-bottom: 0;padding: 0.3em;box-sizing: border-box;text-align: center;}#sk-container-id-6 label.sk-toggleable__label-arrow:before {content: \"▸\";float: left;margin-right: 0.25em;color: #696969;}#sk-container-id-6 label.sk-toggleable__label-arrow:hover:before {color: black;}#sk-container-id-6 div.sk-estimator:hover label.sk-toggleable__label-arrow:before {color: black;}#sk-container-id-6 div.sk-toggleable__content {max-height: 0;max-width: 0;overflow: hidden;text-align: left;background-color: #f0f8ff;}#sk-container-id-6 div.sk-toggleable__content pre {margin: 0.2em;color: black;border-radius: 0.25em;background-color: #f0f8ff;}#sk-container-id-6 input.sk-toggleable__control:checked~div.sk-toggleable__content {max-height: 200px;max-width: 100%;overflow: auto;}#sk-container-id-6 input.sk-toggleable__control:checked~label.sk-toggleable__label-arrow:before {content: \"▾\";}#sk-container-id-6 div.sk-estimator input.sk-toggleable__control:checked~label.sk-toggleable__label {background-color: #d4ebff;}#sk-container-id-6 div.sk-label input.sk-toggleable__control:checked~label.sk-toggleable__label {background-color: #d4ebff;}#sk-container-id-6 input.sk-hidden--visually {border: 0;clip: rect(1px 1px 1px 1px);clip: rect(1px, 1px, 1px, 1px);height: 1px;margin: -1px;overflow: hidden;padding: 0;position: absolute;width: 1px;}#sk-container-id-6 div.sk-estimator {font-family: monospace;background-color: #f0f8ff;border: 1px dotted black;border-radius: 0.25em;box-sizing: border-box;margin-bottom: 0.5em;}#sk-container-id-6 div.sk-estimator:hover {background-color: #d4ebff;}#sk-container-id-6 div.sk-parallel-item::after {content: \"\";width: 100%;border-bottom: 1px solid gray;flex-grow: 1;}#sk-container-id-6 div.sk-label:hover label.sk-toggleable__label {background-color: #d4ebff;}#sk-container-id-6 div.sk-serial::before {content: \"\";position: absolute;border-left: 1px solid gray;box-sizing: border-box;top: 0;bottom: 0;left: 50%;z-index: 0;}#sk-container-id-6 div.sk-serial {display: flex;flex-direction: column;align-items: center;background-color: white;padding-right: 0.2em;padding-left: 0.2em;position: relative;}#sk-container-id-6 div.sk-item {position: relative;z-index: 1;}#sk-container-id-6 div.sk-parallel {display: flex;align-items: stretch;justify-content: center;background-color: white;position: relative;}#sk-container-id-6 div.sk-item::before, #sk-container-id-6 div.sk-parallel-item::before {content: \"\";position: absolute;border-left: 1px solid gray;box-sizing: border-box;top: 0;bottom: 0;left: 50%;z-index: -1;}#sk-container-id-6 div.sk-parallel-item {display: flex;flex-direction: column;z-index: 1;position: relative;background-color: white;}#sk-container-id-6 div.sk-parallel-item:first-child::after {align-self: flex-end;width: 50%;}#sk-container-id-6 div.sk-parallel-item:last-child::after {align-self: flex-start;width: 50%;}#sk-container-id-6 div.sk-parallel-item:only-child::after {width: 0;}#sk-container-id-6 div.sk-dashed-wrapped {border: 1px dashed gray;margin: 0 0.4em 0.5em 0.4em;box-sizing: border-box;padding-bottom: 0.4em;background-color: white;}#sk-container-id-6 div.sk-label label {font-family: monospace;font-weight: bold;display: inline-block;line-height: 1.2em;}#sk-container-id-6 div.sk-label-container {text-align: center;}#sk-container-id-6 div.sk-container {/* jupyter's `normalize.less` sets `[hidden] { display: none; }` but bootstrap.min.css set `[hidden] { display: none !important; }` so we also need the `!important` here to be able to override the default hidden behavior on the sphinx rendered scikit-learn.org. See: https://github.com/scikit-learn/scikit-learn/issues/21755 */display: inline-block !important;position: relative;}#sk-container-id-6 div.sk-text-repr-fallback {display: none;}</style><div id=\"sk-container-id-6\" class=\"sk-top-container\"><div class=\"sk-text-repr-fallback\"><pre>StandardScaler()</pre><b>In a Jupyter environment, please rerun this cell to show the HTML representation or trust the notebook. <br />On GitHub, the HTML representation is unable to render, please try loading this page with nbviewer.org.</b></div><div class=\"sk-container\" hidden><div class=\"sk-item\"><div class=\"sk-estimator sk-toggleable\"><input class=\"sk-toggleable__control sk-hidden--visually\" id=\"sk-estimator-id-6\" type=\"checkbox\" checked><label for=\"sk-estimator-id-6\" class=\"sk-toggleable__label sk-toggleable__label-arrow\">StandardScaler</label><div class=\"sk-toggleable__content\"><pre>StandardScaler()</pre></div></div></div></div></div>"
      ],
      "text/plain": [
       "StandardScaler()"
      ]
     },
     "execution_count": 30,
     "metadata": {},
     "output_type": "execute_result"
    }
   ],
   "source": [
    "# 13\n",
    "std_scaler = StandardScaler()\n",
    "std_scaler"
   ]
  },
  {
   "cell_type": "markdown",
   "id": "1630cfa2",
   "metadata": {
    "id": "1630cfa2"
   },
   "source": [
    "3. Идентифицируйте параметры преобразования на датафрейме с количественными переменными."
   ]
  },
  {
   "cell_type": "code",
   "execution_count": 35,
   "id": "0cc2c08b",
   "metadata": {
    "ExecuteTime": {
     "end_time": "2022-03-15T22:40:46.338630Z",
     "start_time": "2022-03-15T22:40:46.333793Z"
    },
    "id": "0cc2c08b"
   },
   "outputs": [
    {
     "data": {
      "text/html": [
       "<style>#sk-container-id-7 {color: black;background-color: white;}#sk-container-id-7 pre{padding: 0;}#sk-container-id-7 div.sk-toggleable {background-color: white;}#sk-container-id-7 label.sk-toggleable__label {cursor: pointer;display: block;width: 100%;margin-bottom: 0;padding: 0.3em;box-sizing: border-box;text-align: center;}#sk-container-id-7 label.sk-toggleable__label-arrow:before {content: \"▸\";float: left;margin-right: 0.25em;color: #696969;}#sk-container-id-7 label.sk-toggleable__label-arrow:hover:before {color: black;}#sk-container-id-7 div.sk-estimator:hover label.sk-toggleable__label-arrow:before {color: black;}#sk-container-id-7 div.sk-toggleable__content {max-height: 0;max-width: 0;overflow: hidden;text-align: left;background-color: #f0f8ff;}#sk-container-id-7 div.sk-toggleable__content pre {margin: 0.2em;color: black;border-radius: 0.25em;background-color: #f0f8ff;}#sk-container-id-7 input.sk-toggleable__control:checked~div.sk-toggleable__content {max-height: 200px;max-width: 100%;overflow: auto;}#sk-container-id-7 input.sk-toggleable__control:checked~label.sk-toggleable__label-arrow:before {content: \"▾\";}#sk-container-id-7 div.sk-estimator input.sk-toggleable__control:checked~label.sk-toggleable__label {background-color: #d4ebff;}#sk-container-id-7 div.sk-label input.sk-toggleable__control:checked~label.sk-toggleable__label {background-color: #d4ebff;}#sk-container-id-7 input.sk-hidden--visually {border: 0;clip: rect(1px 1px 1px 1px);clip: rect(1px, 1px, 1px, 1px);height: 1px;margin: -1px;overflow: hidden;padding: 0;position: absolute;width: 1px;}#sk-container-id-7 div.sk-estimator {font-family: monospace;background-color: #f0f8ff;border: 1px dotted black;border-radius: 0.25em;box-sizing: border-box;margin-bottom: 0.5em;}#sk-container-id-7 div.sk-estimator:hover {background-color: #d4ebff;}#sk-container-id-7 div.sk-parallel-item::after {content: \"\";width: 100%;border-bottom: 1px solid gray;flex-grow: 1;}#sk-container-id-7 div.sk-label:hover label.sk-toggleable__label {background-color: #d4ebff;}#sk-container-id-7 div.sk-serial::before {content: \"\";position: absolute;border-left: 1px solid gray;box-sizing: border-box;top: 0;bottom: 0;left: 50%;z-index: 0;}#sk-container-id-7 div.sk-serial {display: flex;flex-direction: column;align-items: center;background-color: white;padding-right: 0.2em;padding-left: 0.2em;position: relative;}#sk-container-id-7 div.sk-item {position: relative;z-index: 1;}#sk-container-id-7 div.sk-parallel {display: flex;align-items: stretch;justify-content: center;background-color: white;position: relative;}#sk-container-id-7 div.sk-item::before, #sk-container-id-7 div.sk-parallel-item::before {content: \"\";position: absolute;border-left: 1px solid gray;box-sizing: border-box;top: 0;bottom: 0;left: 50%;z-index: -1;}#sk-container-id-7 div.sk-parallel-item {display: flex;flex-direction: column;z-index: 1;position: relative;background-color: white;}#sk-container-id-7 div.sk-parallel-item:first-child::after {align-self: flex-end;width: 50%;}#sk-container-id-7 div.sk-parallel-item:last-child::after {align-self: flex-start;width: 50%;}#sk-container-id-7 div.sk-parallel-item:only-child::after {width: 0;}#sk-container-id-7 div.sk-dashed-wrapped {border: 1px dashed gray;margin: 0 0.4em 0.5em 0.4em;box-sizing: border-box;padding-bottom: 0.4em;background-color: white;}#sk-container-id-7 div.sk-label label {font-family: monospace;font-weight: bold;display: inline-block;line-height: 1.2em;}#sk-container-id-7 div.sk-label-container {text-align: center;}#sk-container-id-7 div.sk-container {/* jupyter's `normalize.less` sets `[hidden] { display: none; }` but bootstrap.min.css set `[hidden] { display: none !important; }` so we also need the `!important` here to be able to override the default hidden behavior on the sphinx rendered scikit-learn.org. See: https://github.com/scikit-learn/scikit-learn/issues/21755 */display: inline-block !important;position: relative;}#sk-container-id-7 div.sk-text-repr-fallback {display: none;}</style><div id=\"sk-container-id-7\" class=\"sk-top-container\"><div class=\"sk-text-repr-fallback\"><pre>StandardScaler()</pre><b>In a Jupyter environment, please rerun this cell to show the HTML representation or trust the notebook. <br />On GitHub, the HTML representation is unable to render, please try loading this page with nbviewer.org.</b></div><div class=\"sk-container\" hidden><div class=\"sk-item\"><div class=\"sk-estimator sk-toggleable\"><input class=\"sk-toggleable__control sk-hidden--visually\" id=\"sk-estimator-id-7\" type=\"checkbox\" checked><label for=\"sk-estimator-id-7\" class=\"sk-toggleable__label sk-toggleable__label-arrow\">StandardScaler</label><div class=\"sk-toggleable__content\"><pre>StandardScaler()</pre></div></div></div></div></div>"
      ],
      "text/plain": [
       "StandardScaler()"
      ]
     },
     "execution_count": 35,
     "metadata": {},
     "output_type": "execute_result"
    }
   ],
   "source": [
    "# 14\n",
    "std_scaler.fit(data_numeric)"
   ]
  },
  {
   "cell_type": "markdown",
   "id": "9ef7ff55",
   "metadata": {
    "id": "9ef7ff55"
   },
   "source": [
    "4. Примените преобразование для датафрейма с количественными переменными и сохраните в новую переменную, распечатайте получившуюся матрицу и её размерность."
   ]
  },
  {
   "cell_type": "code",
   "execution_count": 36,
   "id": "cd141505",
   "metadata": {
    "ExecuteTime": {
     "end_time": "2022-03-15T22:40:46.389565Z",
     "start_time": "2022-03-15T22:40:46.380037Z"
    },
    "id": "cd141505"
   },
   "outputs": [
    {
     "name": "stdout",
     "output_type": "stream",
     "text": [
      "[[-0.61917248  0.48424452  1.32239376 ... -0.15578836  1.16303238\n",
      "   1.91066901]\n",
      " [ 0.38801429  1.11079989  0.69597272 ... -0.15578836  0.93208734\n",
      "   1.23579936]\n",
      " [-0.84305905  0.531185    0.85257798 ... -0.15578836  0.47019727\n",
      "   0.56092971]\n",
      " ...\n",
      " [ 1.10542805 -1.62887477 -0.08705357 ... -0.15578836  1.50944993\n",
      "   1.91066901]\n",
      " [ 0.7739386   0.25195859  0.53936746 ... -0.15578836 -0.56905538\n",
      "  -0.78880959]\n",
      " [-0.33773799  0.98546471  0.85257798 ... -0.15578836  1.16303238\n",
      "   1.91066901]]\n",
      "(9619, 8)\n"
     ]
    }
   ],
   "source": [
    "# 15\n",
    "scaled_numeric = std_scaler.transform(data_numeric)\n",
    "print(scaled_numeric)\n",
    "print(scaled_numeric.shape)"
   ]
  },
  {
   "cell_type": "markdown",
   "id": "68d44f88",
   "metadata": {
    "ExecuteTime": {
     "end_time": "2022-03-13T11:12:57.421096Z",
     "start_time": "2022-03-13T11:12:57.414865Z"
    },
    "id": "68d44f88"
   },
   "source": [
    "5. Создайте наименования новых признаков по шаблону: `lat_std` для `lat` и так далее."
   ]
  },
  {
   "cell_type": "code",
   "execution_count": 39,
   "id": "c1e897da",
   "metadata": {},
   "outputs": [],
   "source": [
    "# 16\n",
    "df_scaled = pd.DataFrame(scaled_numeric, columns=[f'{col}_std' for col in numeric_cols])"
   ]
  },
  {
   "cell_type": "markdown",
   "id": "490925bb",
   "metadata": {
    "ExecuteTime": {
     "end_time": "2022-03-13T11:13:15.167251Z",
     "start_time": "2022-03-13T11:13:15.161293Z"
    },
    "id": "490925bb"
   },
   "source": [
    "6. Добавьте в исходный датафрейм получившиеся новые признаки, выведите первые пять записей датафрейма и список колонок."
   ]
  },
  {
   "cell_type": "code",
   "execution_count": 41,
   "id": "fd76c41d",
   "metadata": {},
   "outputs": [
    {
     "name": "stdout",
     "output_type": "stream",
     "text": [
      "           id   url  region  region_url  price  year  manufacturer  model  \\\n",
      "0  7308295377  1415      54          60  54990  2020            32    113   \n",
      "1  7316380095  5705     234         241  16942  2016            12   1290   \n",
      "2  7313733749  7115     280         293  35590  2017            38   1701   \n",
      "3  7308210929  2832     103         111  14500  2013            37   2408   \n",
      "4  7303797340  4235     169         175  14590  2012             3      2   \n",
      "\n",
      "   fuel  odometer  ...  model_len_std  model_word_count_std   lat_std  \\\n",
      "0     0     27442  ...       1.163032              1.910669 -0.619172   \n",
      "1     4     60023  ...       0.932087              1.235799  0.388014   \n",
      "2     2     14048  ...       0.470197              0.560930 -0.843059   \n",
      "3     2    117291  ...      -0.915473             -0.788810 -0.504509   \n",
      "4     4     80465  ...       1.163032              1.910669 -0.460101   \n",
      "\n",
      "   long_std  year_std  odometer/price_std  desc_len_std  model_in_desc_std  \\\n",
      "0  0.484245  1.322394           -0.510784      0.632075          -0.155788   \n",
      "1  1.110800  0.695973           -0.402947     -0.646781          -0.155788   \n",
      "2  0.531185  0.852578           -0.514480      0.560744          -0.155788   \n",
      "3  0.853562  0.226157           -0.241883      0.180435          -0.155788   \n",
      "4  0.557607  0.069552           -0.333074      0.766366          -0.155788   \n",
      "\n",
      "   model_len_std  model_word_count_std  \n",
      "0       1.163032              1.910669  \n",
      "1       0.932087              1.235799  \n",
      "2       0.470197              0.560930  \n",
      "3      -0.915473             -0.788810  \n",
      "4       1.163032              1.910669  \n",
      "\n",
      "[5 rows x 7785 columns]\n",
      "Index(['id', 'url', 'region', 'region_url', 'price', 'year', 'manufacturer',\n",
      "       'model', 'fuel', 'odometer',\n",
      "       ...\n",
      "       'model_len_std', 'model_word_count_std', 'lat_std', 'long_std',\n",
      "       'year_std', 'odometer/price_std', 'desc_len_std', 'model_in_desc_std',\n",
      "       'model_len_std', 'model_word_count_std'],\n",
      "      dtype='object', length=7785)\n"
     ]
    }
   ],
   "source": [
    "# 17\n",
    "df = pd.concat([df, df_scaled], axis=1)\n",
    "print(df.head())\n",
    "print(df.columns)"
   ]
  },
  {
   "cell_type": "markdown",
   "id": "0a3146dd",
   "metadata": {
    "ExecuteTime": {
     "end_time": "2022-03-13T11:16:52.292837Z",
     "start_time": "2022-03-13T11:16:52.286868Z"
    },
    "id": "0a3146dd"
   },
   "source": [
    "### Задача 4. MinMax-нормализация данных\n",
    "\n",
    "1. Импортируйте MinMaxScaler из `sklearn.preprocessing`."
   ]
  },
  {
   "cell_type": "code",
   "execution_count": 42,
   "id": "3db8afba",
   "metadata": {
    "ExecuteTime": {
     "end_time": "2022-03-15T22:40:46.701361Z",
     "start_time": "2022-03-15T22:40:46.695192Z"
    },
    "id": "3db8afba"
   },
   "outputs": [],
   "source": [
    "# 18\n",
    "from sklearn.preprocessing import MinMaxScaler"
   ]
  },
  {
   "cell_type": "markdown",
   "id": "d471557f",
   "metadata": {
    "id": "d471557f"
   },
   "source": [
    "2. Создайте датафрейм, содержащий переменные `lat` и `long`."
   ]
  },
  {
   "cell_type": "code",
   "execution_count": 44,
   "id": "13859501",
   "metadata": {
    "ExecuteTime": {
     "end_time": "2022-03-15T22:40:46.732137Z",
     "start_time": "2022-03-15T22:40:46.725228Z"
    },
    "id": "13859501"
   },
   "outputs": [
    {
     "name": "stdout",
     "output_type": "stream",
     "text": [
      "            lat        long\n",
      "0     35.060000  -85.250000\n",
      "1     40.821805  -74.061962\n",
      "2     33.779214  -84.411811\n",
      "3     35.715954  -78.655304\n",
      "4     35.970000  -83.940000\n",
      "...         ...         ...\n",
      "9614  42.123900  -79.189500\n",
      "9615  43.216990  -77.755610\n",
      "9616  44.925908 -122.982753\n",
      "9617  43.029559  -89.397796\n",
      "9618  36.670000  -76.300000\n",
      "\n",
      "[9619 rows x 2 columns]\n"
     ]
    }
   ],
   "source": [
    "# Extract lat and long\n",
    "data_lat_long = df[['lat', 'long']]\n",
    "print(data_lat_long)"
   ]
  },
  {
   "cell_type": "markdown",
   "id": "0599fc35",
   "metadata": {
    "id": "0599fc35"
   },
   "source": [
    "3. Повторите действия пунктов 2–6 из задачи 3 для добавления в исходный датафрейм признаков `lat_mm` и `long_mm`. Выведите получившийся датафрейм."
   ]
  },
  {
   "cell_type": "code",
   "execution_count": 49,
   "id": "26f2c546",
   "metadata": {
    "ExecuteTime": {
     "end_time": "2022-03-15T22:40:47.159782Z",
     "start_time": "2022-03-15T22:40:47.148971Z"
    },
    "id": "26f2c546"
   },
   "outputs": [
    {
     "name": "stdout",
     "output_type": "stream",
     "text": [
      "[[0.34176874 0.28869912]\n",
      " [0.4686646  0.33305517]\n",
      " [0.31356118 0.2920222 ]\n",
      " ...\n",
      " [0.55905185 0.13910399]\n",
      " [0.51728736 0.27225478]\n",
      " [0.37722678 0.32418225]]\n",
      "['lat_mm', 'long_mm']\n"
     ]
    }
   ],
   "source": [
    "# MinMaxScaler\n",
    "scaler_mm = MinMaxScaler()\n",
    "scaler_mm.fit(data_lat_long)\n",
    "scaled_mm = scaler_mm.transform(data_lat_long)\n",
    "mm_variables = ['lat_mm', 'long_mm']\n",
    "print(scaled_mm )\n",
    "print(mm_variables)"
   ]
  },
  {
   "cell_type": "markdown",
   "id": "71044c34",
   "metadata": {
    "id": "71044c34"
   },
   "source": [
    "4. Создайте переменную под географические признаки `lat`, `lat_std`, `lat_mm`, `long`, `long_std`, `long_mm` и выведите их. Посмотрите на различия в значениях для исходных признаков и нормализованных с помощью стандартизации и MinMax-преобразования. "
   ]
  },
  {
   "cell_type": "code",
   "execution_count": 50,
   "id": "27642284",
   "metadata": {
    "ExecuteTime": {
     "end_time": "2022-03-15T22:40:47.408669Z",
     "start_time": "2022-03-15T22:40:47.402057Z"
    },
    "id": "27642284"
   },
   "outputs": [
    {
     "name": "stdout",
     "output_type": "stream",
     "text": [
      "         lat   lat_std   lat_std    lat_mm       long  long_std  long_std  \\\n",
      "0  35.060000 -0.619172 -0.619172  0.341769 -85.250000  0.484245  0.484245   \n",
      "1  40.821805  0.388014  0.388014  0.468665 -74.061962  1.110800  1.110800   \n",
      "2  33.779214 -0.843059 -0.843059  0.313561 -84.411811  0.531185  0.531185   \n",
      "3  35.715954 -0.504509 -0.504509  0.356215 -78.655304  0.853562  0.853562   \n",
      "4  35.970000 -0.460101 -0.460101  0.361810 -83.940000  0.557607  0.557607   \n",
      "\n",
      "    long_mm  \n",
      "0  0.288699  \n",
      "1  0.333055  \n",
      "2  0.292022  \n",
      "3  0.314844  \n",
      "4  0.293893  \n"
     ]
    }
   ],
   "source": [
    "#20  Extract original features\n",
    "data_lat_long = df[['lat', 'long']] \n",
    "\n",
    "# StandardScaler\n",
    "std_scaler = StandardScaler()\n",
    "std_scaled = std_scaler.fit_transform(data_lat_long)\n",
    "\n",
    "# MinMaxScaler\n",
    "mm_scaler = MinMaxScaler()\n",
    "mm_scaled = mm_scaler.fit_transform(data_lat_long)\n",
    "\n",
    "# Add columns to df\n",
    "df['lat_std'] = std_scaled[:,0] \n",
    "df['long_std'] = std_scaled[:,1]\n",
    "df['lat_mm'] = mm_scaled[:,0]\n",
    "df['long_mm'] = mm_scaled[:,1]\n",
    "\n",
    "# Create variable with all columns\n",
    "all_variables = ['lat', 'lat_std', 'lat_mm', 'long', 'long_std', 'long_mm']\n",
    "\n",
    "# Output data\n",
    "print(df[all_variables].head())"
   ]
  },
  {
   "cell_type": "markdown",
   "id": "ef219d5f",
   "metadata": {
    "id": "ef219d5f"
   },
   "source": [
    "5. Выведите описательные статистики для всех географических признаков. Посмотрите на различия в статистиках для исходных признаков и нормализованных с помощью стандартизации и MinMax-преобразования."
   ]
  },
  {
   "cell_type": "code",
   "execution_count": 53,
   "id": "453b92ff",
   "metadata": {
    "ExecuteTime": {
     "end_time": "2022-03-15T22:40:47.738681Z",
     "start_time": "2022-03-15T22:40:47.730698Z"
    },
    "id": "453b92ff"
   },
   "outputs": [
    {
     "name": "stdout",
     "output_type": "stream",
     "text": [
      "               lat       lat_std       lat_std       lat_mm         long  \\\n",
      "count  9619.000000  9.619000e+03  9.619000e+03  9619.000000  9619.000000   \n",
      "mean     38.602095  2.105257e-16  2.105257e-16     0.419779   -93.896875   \n",
      "std       5.720989  1.000052e+00  1.000052e+00     0.125997    17.857352   \n",
      "min      19.541726 -3.331829e+00 -3.331829e+00     0.000000  -158.069300   \n",
      "25%      34.920000 -6.436450e-01 -6.436450e-01     0.338685  -106.944340   \n",
      "50%      39.300000  1.219966e-01  1.219966e-01     0.435149   -87.845800   \n",
      "75%      42.382100  6.607601e-01  6.607601e-01     0.503028   -80.678711   \n",
      "max      64.947500  4.605283e+00  4.605283e+00     1.000000    94.163200   \n",
      "\n",
      "           long_std      long_std      long_mm  \n",
      "count  9.619000e+03  9.619000e+03  9619.000000  \n",
      "mean  -4.498602e-16 -4.498602e-16     0.254418  \n",
      "std    1.000052e+00  1.000052e+00     0.070797  \n",
      "min   -3.593801e+00 -3.593801e+00     0.000000  \n",
      "25%   -7.306875e-01 -7.306875e-01     0.202690  \n",
      "50%    3.388739e-01  3.388739e-01     0.278408  \n",
      "75%    7.402470e-01  7.402470e-01     0.306822  \n",
      "max    1.053179e+01  1.053179e+01     1.000000  \n"
     ]
    }
   ],
   "source": [
    "\n",
    "#21 StandardScaler\n",
    "std_scaler = StandardScaler()  \n",
    "std_scaled = std_scaler.fit_transform(data_lat_long)\n",
    "\n",
    "# MinMaxScaler\n",
    "mm_scaler = MinMaxScaler()\n",
    "mm_scaled = mm_scaler.fit_transform(data_lat_long) \n",
    "\n",
    "# Add columns to df\n",
    "df['lat_std'] = std_scaled[:,0]\n",
    "df['long_std'] = std_scaled[:,1]  \n",
    "df['lat_mm'] = mm_scaled[:,0]\n",
    "df['long_mm'] = mm_scaled[:,1]\n",
    "\n",
    "# All columns\n",
    "all_variables = ['lat', 'lat_std', 'lat_mm', 'long', 'long_std', 'long_mm']\n",
    "\n",
    "\n",
    "# Descriptive statistics\n",
    "print(df[all_variables].describe())"
   ]
  },
  {
   "cell_type": "code",
   "execution_count": 54,
   "id": "00b473aa",
   "metadata": {},
   "outputs": [
    {
     "name": "stdout",
     "output_type": "stream",
     "text": [
      "               lat       lat_std       lat_std       lat_mm         long  \\\n",
      "count  9619.000000  9.619000e+03  9.619000e+03  9619.000000  9619.000000   \n",
      "mean     38.602095  2.105257e-16  2.105257e-16     0.419779   -93.896875   \n",
      "std       5.720989  1.000052e+00  1.000052e+00     0.125997    17.857352   \n",
      "min      19.541726 -3.331829e+00 -3.331829e+00     0.000000  -158.069300   \n",
      "25%      34.920000 -6.436450e-01 -6.436450e-01     0.338685  -106.944340   \n",
      "50%      39.300000  1.219966e-01  1.219966e-01     0.435149   -87.845800   \n",
      "75%      42.382100  6.607601e-01  6.607601e-01     0.503028   -80.678711   \n",
      "max      64.947500  4.605283e+00  4.605283e+00     1.000000    94.163200   \n",
      "\n",
      "           long_std      long_std      long_mm  \n",
      "count  9.619000e+03  9.619000e+03  9619.000000  \n",
      "mean  -4.498602e-16 -4.498602e-16     0.254418  \n",
      "std    1.000052e+00  1.000052e+00     0.070797  \n",
      "min   -3.593801e+00 -3.593801e+00     0.000000  \n",
      "25%   -7.306875e-01 -7.306875e-01     0.202690  \n",
      "50%    3.388739e-01  3.388739e-01     0.278408  \n",
      "75%    7.402470e-01  7.402470e-01     0.306822  \n",
      "max    1.053179e+01  1.053179e+01     1.000000  \n"
     ]
    }
   ],
   "source": [
    "# 21\n",
    "print(df[geo_features].describe())"
   ]
  },
  {
   "cell_type": "markdown",
   "id": "efac5751",
   "metadata": {
    "id": "efac5751"
   },
   "source": [
    "6. Выведите матрицу корреляций для всех географических признаков, чтобы убедиться, что нормализация признаков сохранила свойства исходных признаков."
   ]
  },
  {
   "cell_type": "code",
   "execution_count": 55,
   "id": "cf654218",
   "metadata": {
    "scrolled": false
   },
   "outputs": [
    {
     "name": "stdout",
     "output_type": "stream",
     "text": [
      "               lat      long   lat_std   lat_std  long_std  long_std  \\\n",
      "lat       1.000000 -0.134596  1.000000  1.000000 -0.134596 -0.134596   \n",
      "long     -0.134596  1.000000 -0.134596 -0.134596  1.000000  1.000000   \n",
      "lat_std   1.000000 -0.134596  1.000000  1.000000 -0.134596 -0.134596   \n",
      "lat_std   1.000000 -0.134596  1.000000  1.000000 -0.134596 -0.134596   \n",
      "long_std -0.134596  1.000000 -0.134596 -0.134596  1.000000  1.000000   \n",
      "long_std -0.134596  1.000000 -0.134596 -0.134596  1.000000  1.000000   \n",
      "lat_mm    1.000000 -0.134596  1.000000  1.000000 -0.134596 -0.134596   \n",
      "long_mm  -0.134596  1.000000 -0.134596 -0.134596  1.000000  1.000000   \n",
      "\n",
      "            lat_mm   long_mm  \n",
      "lat       1.000000 -0.134596  \n",
      "long     -0.134596  1.000000  \n",
      "lat_std   1.000000 -0.134596  \n",
      "lat_std   1.000000 -0.134596  \n",
      "long_std -0.134596  1.000000  \n",
      "long_std -0.134596  1.000000  \n",
      "lat_mm    1.000000 -0.134596  \n",
      "long_mm  -0.134596  1.000000  \n",
      "DataFrame encoded and saved\n"
     ]
    },
    {
     "data": {
      "image/png": "[encoded data removed]",
      "text/plain": [
       "<Figure size 2000x2000 with 3 Axes>"
      ]
     },
     "metadata": {},
     "output_type": "display_data"
    }
   ],
   "source": [
    "#22 StandardScaler\n",
    "std_scaler = StandardScaler()\n",
    "std_scaled = std_scaler.fit_transform(data_lat_long)\n",
    "\n",
    "# MinMaxScaler\n",
    "mm_scaler = MinMaxScaler()\n",
    "mm_scaled = mm_scaler.fit_transform(data_lat_long)\n",
    "\n",
    "# Add columns to df\n",
    "df['lat_std'] = std_scaled[:,0]\n",
    "df['long_std'] = std_scaled[:,1]\n",
    "df['lat_mm'] = mm_scaled[:,0]\n",
    "df['long_mm'] = mm_scaled[:,1]\n",
    "\n",
    "# Calculate correlation matrix\n",
    "corr_matrix = df[['lat', 'long', 'lat_std', 'long_std', 'lat_mm', 'long_mm']].corr()\n",
    "print(corr_matrix)\n",
    "\n",
    "# Plotting \n",
    "fig, (ax1, ax2, ax3) = plt.subplots(nrows=3, ncols=1, figsize=(20, 20))\n",
    "\n",
    "ax1.scatter(df.lat, df.long)\n",
    "ax1.set_title('Исходная')  \n",
    "ax1.set_ylabel('Широта')\n",
    "ax1.set_xlabel('Долгота')\n",
    "\n",
    "ax2.scatter(df.lat_std, df.long_std) \n",
    "ax2.set_title('После Z-стандартизации')\n",
    "ax2.set_ylabel('Широта')\n",
    "ax2.set_xlabel('Долгота')\n",
    "\n",
    "ax3.scatter(df.lat_mm, df.long_mm)\n",
    "ax3.set_title('После Min-Max нормализации')  \n",
    "ax3.set_ylabel('Широта')\n",
    "ax3.set_xlabel('Долгота')\n",
    "\n",
    "fig.suptitle('Сравнение исходных данных по широте и долготе с Z-стандартизованными и Min-Max нормализованными');\n",
    "\n",
    "# Save encoded dataframe\n",
    "df.to_csv('vehicles_normalized.csv', index=False)\n",
    "\n",
    "print('DataFrame encoded and saved')"
   ]
  },
  {
   "cell_type": "markdown",
   "id": "f87792e8",
   "metadata": {
    "ExecuteTime": {
     "end_time": "2022-03-13T12:00:09.641795Z",
     "start_time": "2022-03-13T12:00:09.636474Z"
    },
    "id": "f87792e8"
   },
   "source": [
    "### Задача 5. Признаки на основе дат\n",
    "\n",
    "1. Выведите по отдельности колонки `posting_date` и `date`. "
   ]
  },
  {
   "cell_type": "code",
   "execution_count": 38,
   "id": "1cf0cc30",
   "metadata": {
    "ExecuteTime": {
     "end_time": "2022-03-15T22:40:48.879395Z",
     "start_time": "2022-03-15T22:40:48.875098Z"
    },
    "id": "1cf0cc30",
    "scrolled": true
   },
   "outputs": [
    {
     "name": "stdout",
     "output_type": "stream",
     "text": [
      "                  posting_date                       date\n",
      "0     2021-04-17T12:30:50-0400  2021-04-17 16:30:50+00:00\n",
      "1     2021-05-03T15:40:21-0400  2021-05-03 19:40:21+00:00\n",
      "2     2021-04-28T03:52:20-0700  2021-04-28 10:52:20+00:00\n",
      "3     2021-04-17T10:08:57-0400  2021-04-17 14:08:57+00:00\n",
      "4     2021-04-08T15:10:56-0400  2021-04-08 19:10:56+00:00\n",
      "...                        ...                        ...\n",
      "9614  2021-04-10T16:33:57-0400  2021-04-10 20:33:57+00:00\n",
      "9615  2021-05-03T09:36:30-0400  2021-05-03 13:36:30+00:00\n",
      "9616  2021-04-22T12:14:01-0700  2021-04-22 19:14:01+00:00\n",
      "9617  2021-04-14T09:14:42-0500  2021-04-14 14:14:42+00:00\n",
      "9618  2021-04-24T13:50:49-0400  2021-04-24 17:50:49+00:00\n",
      "\n",
      "[9619 rows x 2 columns]\n"
     ]
    }
   ],
   "source": [
    "# Print 'posting_date' and 'date' columns\n",
    "print(df[['posting_date', 'date']])"
   ]
  },
  {
   "cell_type": "markdown",
   "id": "a154545f",
   "metadata": {
    "id": "a154545f"
   },
   "source": [
    "2. Ранее преобразованная колонка `date` после сохранения в файл и загрузки из него содержит данные в строковом формате, поэтому измените её тип c помощью `pd.to_datetime`."
   ]
  },
  {
   "cell_type": "code",
   "execution_count": 39,
   "id": "a196635b",
   "metadata": {
    "ExecuteTime": {
     "end_time": "2022-03-15T22:49:02.356258Z",
     "start_time": "2022-03-15T22:49:02.315893Z"
    },
    "id": "a196635b"
   },
   "outputs": [
    {
     "data": {
      "text/plain": [
       "0      2021-04-17 16:30:50+00:00\n",
       "1      2021-05-03 19:40:21+00:00\n",
       "2      2021-04-28 10:52:20+00:00\n",
       "3      2021-04-17 14:08:57+00:00\n",
       "4      2021-04-08 19:10:56+00:00\n",
       "                  ...           \n",
       "9614   2021-04-10 20:33:57+00:00\n",
       "9615   2021-05-03 13:36:30+00:00\n",
       "9616   2021-04-22 19:14:01+00:00\n",
       "9617   2021-04-14 14:14:42+00:00\n",
       "9618   2021-04-24 17:50:49+00:00\n",
       "Name: date, Length: 9619, dtype: datetime64[ns, UTC]"
      ]
     },
     "execution_count": 39,
     "metadata": {},
     "output_type": "execute_result"
    }
   ],
   "source": [
    "# 24\n",
    "df['date'] = pd.to_datetime(df['date'])\n",
    "df['date']"
   ]
  },
  {
   "cell_type": "code",
   "execution_count": 40,
   "id": "d59e6ef8",
   "metadata": {},
   "outputs": [
    {
     "name": "stdout",
     "output_type": "stream",
     "text": [
      "0      2021-04-17 16:30:50+00:00\n",
      "1      2021-05-03 19:40:21+00:00\n",
      "2      2021-04-28 10:52:20+00:00\n",
      "3      2021-04-17 14:08:57+00:00\n",
      "4      2021-04-08 19:10:56+00:00\n",
      "                  ...           \n",
      "9614   2021-04-10 20:33:57+00:00\n",
      "9615   2021-05-03 13:36:30+00:00\n",
      "9616   2021-04-22 19:14:01+00:00\n",
      "9617   2021-04-14 14:14:42+00:00\n",
      "9618   2021-04-24 17:50:49+00:00\n",
      "Name: date, Length: 9619, dtype: datetime64[ns, UTC]\n"
     ]
    }
   ],
   "source": [
    "# Convert 'date' to datetime\n",
    "df['date'] = pd.to_datetime(df['date'])\n",
    "print(df['date'])"
   ]
  },
  {
   "cell_type": "markdown",
   "id": "c9b3e6f1",
   "metadata": {
    "id": "c9b3e6f1"
   },
   "source": [
    "3. Несколькими способами извлеките номер месяца продажи автомобиля.\n",
    "\n",
    "3.1. Из переменной `posting_date` с помощью lambda-функции и операций над строками."
   ]
  },
  {
   "cell_type": "code",
   "execution_count": 42,
   "id": "a94b8f09",
   "metadata": {},
   "outputs": [
    {
     "name": "stdout",
     "output_type": "stream",
     "text": [
      "                  posting_date                      date\n",
      "0     2021-04-17T12:30:50-0400 2021-04-17 16:30:50+00:00\n",
      "1     2021-05-03T15:40:21-0400 2021-05-03 19:40:21+00:00\n",
      "2     2021-04-28T03:52:20-0700 2021-04-28 10:52:20+00:00\n",
      "3     2021-04-17T10:08:57-0400 2021-04-17 14:08:57+00:00\n",
      "4     2021-04-08T15:10:56-0400 2021-04-08 19:10:56+00:00\n",
      "...                        ...                       ...\n",
      "9614  2021-04-10T16:33:57-0400 2021-04-10 20:33:57+00:00\n",
      "9615  2021-05-03T09:36:30-0400 2021-05-03 13:36:30+00:00\n",
      "9616  2021-04-22T12:14:01-0700 2021-04-22 19:14:01+00:00\n",
      "9617  2021-04-14T09:14:42-0500 2021-04-14 14:14:42+00:00\n",
      "9618  2021-04-24T13:50:49-0400 2021-04-24 17:50:49+00:00\n",
      "\n",
      "[9619 rows x 2 columns]\n"
     ]
    }
   ],
   "source": [
    "# Print 'posting_date' and 'date' columns\n",
    "print(df[['posting_date', 'date']])"
   ]
  },
  {
   "cell_type": "code",
   "execution_count": 43,
   "id": "5375caad",
   "metadata": {},
   "outputs": [
    {
     "name": "stdout",
     "output_type": "stream",
     "text": [
      "0       4\n",
      "1       5\n",
      "2       4\n",
      "3       4\n",
      "4       4\n",
      "       ..\n",
      "9614    4\n",
      "9615    5\n",
      "9616    4\n",
      "9617    4\n",
      "9618    4\n",
      "Name: date, Length: 9619, dtype: int64\n"
     ]
    }
   ],
   "source": [
    "# Using lambda function and month method\n",
    "months = df['date'].apply(lambda x: x.month)\n",
    "\n",
    "print(months)"
   ]
  },
  {
   "cell_type": "code",
   "execution_count": 44,
   "id": "dead09cf",
   "metadata": {},
   "outputs": [
    {
     "name": "stdout",
     "output_type": "stream",
     "text": [
      "Lambda function: 91.09174699999858\n",
      ".str accessor: 56.42131710000103\n",
      ".dt accessor: 0.46275059998151846\n"
     ]
    }
   ],
   "source": [
    "import pandas as pd\n",
    "import timeit\n",
    "\n",
    "# Convert string dates to datetime\n",
    "df['date'] = pd.to_datetime(df['date'])   \n",
    "\n",
    "# From date using lambda function  \n",
    "time1 = timeit.timeit(lambda: df['date'].apply(lambda x: x.strftime('%Y-%m-%d').split('-')[1]), number=1000)\n",
    "\n",
    "# Using .str accessor     \n",
    "time2 = timeit.timeit(lambda: df['date'].dt.strftime('%Y-%m-%d').str.split('-').str[1], number=1000)\n",
    "\n",
    "# Using .dt accessor    \n",
    "time3 = timeit.timeit(lambda: df['date'].dt.month, number=1000)\n",
    "\n",
    "print(f\"Lambda function: {time1}\")   \n",
    "print(f\".str accessor: {time2}\")  \n",
    "print(f\".dt accessor: {time3}\")"
   ]
  },
  {
   "cell_type": "markdown",
   "id": "3218fd7e",
   "metadata": {
    "id": "3218fd7e"
   },
   "source": [
    "3.2. Из переменной `date` с помощью lambda-функции и метода `month`."
   ]
  },
  {
   "cell_type": "code",
   "execution_count": 45,
   "id": "4fd839cb",
   "metadata": {
    "ExecuteTime": {
     "end_time": "2022-03-15T22:40:54.064285Z",
     "start_time": "2022-03-15T22:40:54.057551Z"
    },
    "id": "4fd839cb"
   },
   "outputs": [
    {
     "name": "stdout",
     "output_type": "stream",
     "text": [
      "0       4\n",
      "1       5\n",
      "2       4\n",
      "3       4\n",
      "4       4\n",
      "       ..\n",
      "9614    4\n",
      "9615    5\n",
      "9616    4\n",
      "9617    4\n",
      "9618    4\n",
      "Name: date, Length: 9619, dtype: int64\n"
     ]
    }
   ],
   "source": [
    "# Convert string dates to datetime\n",
    "import pandas as pd\n",
    "\n",
    "df['date'] = pd.to_datetime(df['date'])\n",
    "\n",
    "# Using lambda function and month method\n",
    "months = df['date'].apply(lambda x: x.month)\n",
    "\n",
    "print(months)"
   ]
  },
  {
   "cell_type": "markdown",
   "id": "4000edd6",
   "metadata": {
    "ExecuteTime": {
     "end_time": "2022-03-13T12:25:21.228094Z",
     "start_time": "2022-03-13T12:25:21.223060Z"
    },
    "id": "4000edd6"
   },
   "source": [
    "3.3. Из переменной `date` с помощью `dt` и метода `month`."
   ]
  },
  {
   "cell_type": "code",
   "execution_count": 46,
   "id": "b4112009",
   "metadata": {
    "ExecuteTime": {
     "end_time": "2022-03-15T22:40:55.768506Z",
     "start_time": "2022-03-15T22:40:55.764567Z"
    },
    "id": "b4112009"
   },
   "outputs": [
    {
     "name": "stdout",
     "output_type": "stream",
     "text": [
      "0       4\n",
      "1       5\n",
      "2       4\n",
      "3       4\n",
      "4       4\n",
      "       ..\n",
      "9614    4\n",
      "9615    5\n",
      "9616    4\n",
      "9617    4\n",
      "9618    4\n",
      "Name: date, Length: 9619, dtype: int64\n"
     ]
    }
   ],
   "source": [
    "# Convert string dates to datetime\n",
    "import pandas as pd\n",
    "\n",
    "df['date'] = pd.to_datetime(df['date'])\n",
    "\n",
    "# Using .dt accessor and month method\n",
    "months = df['date'].dt.month\n",
    "\n",
    "print(months)"
   ]
  },
  {
   "cell_type": "markdown",
   "id": "4c79c093",
   "metadata": {
    "id": "4c79c093"
   },
   "source": [
    "4. Создайте любым из способов (3.2 или 3.3) признак `month`, обозначающий номер месяца размещения объявления о продаже автомобиля, и распечатайте его."
   ]
  },
  {
   "cell_type": "code",
   "execution_count": 48,
   "id": "a6f217a1",
   "metadata": {
    "ExecuteTime": {
     "end_time": "2022-03-15T22:40:55.808808Z",
     "start_time": "2022-03-15T22:40:55.801804Z"
    },
    "id": "a6f217a1"
   },
   "outputs": [
    {
     "name": "stdout",
     "output_type": "stream",
     "text": [
      "0       4\n",
      "1       5\n",
      "2       4\n",
      "3       4\n",
      "4       4\n",
      "       ..\n",
      "9614    4\n",
      "9615    5\n",
      "9616    4\n",
      "9617    4\n",
      "9618    4\n",
      "Name: month, Length: 9619, dtype: int64\n"
     ]
    }
   ],
   "source": [
    "# 28\n",
    "df['month'] = df['posting_date'].apply(lambda x: int(x.split('-')[1]))\n",
    "print(df['month'])"
   ]
  },
  {
   "cell_type": "markdown",
   "id": "c855e481",
   "metadata": {
    "id": "c855e481"
   },
   "source": [
    "5. Создайте признак `dayofweek`, обозначающий день недели размещения объявления о продаже автомобиля, и распечатайте его."
   ]
  },
  {
   "cell_type": "code",
   "execution_count": 49,
   "id": "ceda59b0",
   "metadata": {
    "ExecuteTime": {
     "end_time": "2022-03-15T22:40:55.838752Z",
     "start_time": "2022-03-15T22:40:55.833582Z"
    },
    "id": "ceda59b0"
   },
   "outputs": [
    {
     "name": "stdout",
     "output_type": "stream",
     "text": [
      "0       5\n",
      "1       0\n",
      "2       2\n",
      "3       5\n",
      "4       3\n",
      "       ..\n",
      "9614    5\n",
      "9615    0\n",
      "9616    3\n",
      "9617    2\n",
      "9618    5\n",
      "Name: dayofweek, Length: 9619, dtype: int64\n"
     ]
    }
   ],
   "source": [
    "# 30\n",
    "df['dayofweek'] = df['date'].dt.dayofweek\n",
    "print(df['dayofweek'])"
   ]
  },
  {
   "cell_type": "markdown",
   "id": "53253b00",
   "metadata": {
    "id": "53253b00"
   },
   "source": [
    "6. Создайте признак `diff_years`, обозначающий количество лет между годом производства автомобиля и годом размещения объявления о продаже автомобиля, и распечатайте его. Дополнительные корректировки не применяйте."
   ]
  },
  {
   "cell_type": "code",
   "execution_count": 50,
   "id": "c5b0ec88",
   "metadata": {
    "ExecuteTime": {
     "end_time": "2022-03-15T22:40:56.791095Z",
     "start_time": "2022-03-15T22:40:56.787550Z"
    },
    "id": "c5b0ec88"
   },
   "outputs": [
    {
     "name": "stdout",
     "output_type": "stream",
     "text": [
      "0        1\n",
      "1        5\n",
      "2        4\n",
      "3        8\n",
      "4        9\n",
      "        ..\n",
      "9614    19\n",
      "9615    13\n",
      "9616    10\n",
      "9617     6\n",
      "9618     4\n",
      "Name: diff_years, Length: 9619, dtype: int64\n"
     ]
    }
   ],
   "source": [
    "# 31\n",
    "df['diff_years'] = df['date'].dt.year - df['year']\n",
    "print(df['diff_years'])"
   ]
  },
  {
   "cell_type": "markdown",
   "id": "d3a54316",
   "metadata": {
    "id": "d3a54316"
   },
   "source": [
    "7. Примените стандартизацию к новым признаками и сохраните результат в новые признаки вида `month_std`."
   ]
  },
  {
   "cell_type": "code",
   "execution_count": 53,
   "id": "8b2c2e19",
   "metadata": {
    "ExecuteTime": {
     "end_time": "2022-03-15T22:40:57.928930Z",
     "start_time": "2022-03-15T22:40:57.925925Z"
    },
    "id": "8b2c2e19"
   },
   "outputs": [
    {
     "name": "stdout",
     "output_type": "stream",
     "text": [
      "              id                                                url  \\\n",
      "0     7308295377  https://chattanooga.craigslist.org/ctd/d/chatt...   \n",
      "1     7316380095  https://newjersey.craigslist.org/ctd/d/carlsta...   \n",
      "2     7313733749  https://reno.craigslist.org/ctd/d/atlanta-2017...   \n",
      "3     7308210929  https://fayetteville.craigslist.org/ctd/d/rale...   \n",
      "4     7303797340  https://knoxville.craigslist.org/ctd/d/knoxvil...   \n",
      "...          ...                                                ...   \n",
      "9614  7304876387  https://chautauqua.craigslist.org/ctd/d/falcon...   \n",
      "9615  7316152972  https://binghamton.craigslist.org/ctd/d/roches...   \n",
      "9616  7310993818  https://salem.craigslist.org/ctd/d/salem-2011-...   \n",
      "9617  7306637427  https://madison.craigslist.org/ctd/d/madison-2...   \n",
      "9618  7311960763  https://norfolk.craigslist.org/ctd/d/chesapeak...   \n",
      "\n",
      "                       region                           region_url  price  \\\n",
      "0                 chattanooga   https://chattanooga.craigslist.org  54990   \n",
      "1                north jersey     https://newjersey.craigslist.org  16942   \n",
      "2                reno / tahoe          https://reno.craigslist.org  35590   \n",
      "3                fayetteville  https://fayetteville.craigslist.org  14500   \n",
      "4                   knoxville     https://knoxville.craigslist.org  14590   \n",
      "...                       ...                                  ...    ...   \n",
      "9614               chautauqua    https://chautauqua.craigslist.org   4495   \n",
      "9615               binghamton    https://binghamton.craigslist.org  14495   \n",
      "9616                    salem         https://salem.craigslist.org   8995   \n",
      "9617                  madison       https://madison.craigslist.org  31900   \n",
      "9618  norfolk / hampton roads       https://norfolk.craigslist.org  31990   \n",
      "\n",
      "      year manufacturer                      model    fuel  odometer  ...  \\\n",
      "0     2020          ram     2500 crew cab big horn  diesel     27442  ...   \n",
      "1     2016         ford       explorer 4wd 4dr xlt   other     60023  ...   \n",
      "2     2017   volkswagen           golf r hatchback     gas     14048  ...   \n",
      "3     2013       toyota                       rav4     gas    117291  ...   \n",
      "4     2012          bmw     1 series 128i coupe 2d   other     80465  ...   \n",
      "...    ...          ...                        ...     ...       ...  ...   \n",
      "9614  2002       toyota                       rav4     gas    150000  ...   \n",
      "9615  2008         jeep                   wrangler     gas    113573  ...   \n",
      "9616  2011         audi  a3 2.0t premium plus pzev     gas    150184  ...   \n",
      "9617  2015      porsche                    cayenne  hybrid     61943  ...   \n",
      "9618  2017          ram     1500 crew cab big horn     gas     35921  ...   \n",
      "\n",
      "     title_status_salvage age_category_average age_category_new  \\\n",
      "0                     0.0                  0.0              1.0   \n",
      "1                     0.0                  0.0              1.0   \n",
      "2                     0.0                  0.0              1.0   \n",
      "3                     0.0                  1.0              0.0   \n",
      "4                     0.0                  1.0              0.0   \n",
      "...                   ...                  ...              ...   \n",
      "9614                  0.0                  0.0              0.0   \n",
      "9615                  0.0                  1.0              0.0   \n",
      "9616                  0.0                  1.0              0.0   \n",
      "9617                  0.0                  0.0              1.0   \n",
      "9618                  0.0                  0.0              1.0   \n",
      "\n",
      "     age_category_old month_from_posting_date  month  dayofweek diff_years  \\\n",
      "0                 0.0                       4      4          5          1   \n",
      "1                 0.0                       5      5          0          5   \n",
      "2                 0.0                       4      4          2          4   \n",
      "3                 0.0                       4      4          5          8   \n",
      "4                 0.0                       4      4          3          9   \n",
      "...               ...                     ...    ...        ...        ...   \n",
      "9614              1.0                       4      4          5         19   \n",
      "9615              0.0                       5      5          0         13   \n",
      "9616              0.0                       4      4          3         10   \n",
      "9617              0.0                       4      4          2          6   \n",
      "9618              0.0                       4      4          5          4   \n",
      "\n",
      "     month_std diff_years_std  \n",
      "0    -0.599647      -1.322394  \n",
      "1     1.667649      -0.695973  \n",
      "2    -0.599647      -0.852578  \n",
      "3    -0.599647      -0.226157  \n",
      "4    -0.599647      -0.069552  \n",
      "...        ...            ...  \n",
      "9614 -0.599647       1.496501  \n",
      "9615  1.667649       0.556869  \n",
      "9616 -0.599647       0.087054  \n",
      "9617 -0.599647      -0.539367  \n",
      "9618 -0.599647      -0.852578  \n",
      "\n",
      "[9619 rows x 1491 columns]\n"
     ]
    }
   ],
   "source": [
    "# Create StandardScaler\n",
    "scaler = StandardScaler() \n",
    "\n",
    "# Fit and transform month column\n",
    "df['month_std'] = scaler.fit_transform(df[['month']])\n",
    "\n",
    "# Fit and transform diff_years column\n",
    "df['diff_years_std'] = scaler.fit_transform(df[['diff_years']])\n",
    "\n",
    "print(df)"
   ]
  },
  {
   "cell_type": "code",
   "execution_count": 56,
   "id": "156d6b72",
   "metadata": {},
   "outputs": [
    {
     "name": "stdout",
     "output_type": "stream",
     "text": [
      "              id                                                url  \\\n",
      "0     7308295377  https://chattanooga.craigslist.org/ctd/d/chatt...   \n",
      "1     7316380095  https://newjersey.craigslist.org/ctd/d/carlsta...   \n",
      "2     7313733749  https://reno.craigslist.org/ctd/d/atlanta-2017...   \n",
      "3     7308210929  https://fayetteville.craigslist.org/ctd/d/rale...   \n",
      "4     7303797340  https://knoxville.craigslist.org/ctd/d/knoxvil...   \n",
      "...          ...                                                ...   \n",
      "9614  7304876387  https://chautauqua.craigslist.org/ctd/d/falcon...   \n",
      "9615  7316152972  https://binghamton.craigslist.org/ctd/d/roches...   \n",
      "9616  7310993818  https://salem.craigslist.org/ctd/d/salem-2011-...   \n",
      "9617  7306637427  https://madison.craigslist.org/ctd/d/madison-2...   \n",
      "9618  7311960763  https://norfolk.craigslist.org/ctd/d/chesapeak...   \n",
      "\n",
      "                       region                           region_url  price  \\\n",
      "0                 chattanooga   https://chattanooga.craigslist.org  54990   \n",
      "1                north jersey     https://newjersey.craigslist.org  16942   \n",
      "2                reno / tahoe          https://reno.craigslist.org  35590   \n",
      "3                fayetteville  https://fayetteville.craigslist.org  14500   \n",
      "4                   knoxville     https://knoxville.craigslist.org  14590   \n",
      "...                       ...                                  ...    ...   \n",
      "9614               chautauqua    https://chautauqua.craigslist.org   4495   \n",
      "9615               binghamton    https://binghamton.craigslist.org  14495   \n",
      "9616                    salem         https://salem.craigslist.org   8995   \n",
      "9617                  madison       https://madison.craigslist.org  31900   \n",
      "9618  norfolk / hampton roads       https://norfolk.craigslist.org  31990   \n",
      "\n",
      "      year manufacturer                      model    fuel  odometer  ...  \\\n",
      "0     2020          ram     2500 crew cab big horn  diesel     27442  ...   \n",
      "1     2016         ford       explorer 4wd 4dr xlt   other     60023  ...   \n",
      "2     2017   volkswagen           golf r hatchback     gas     14048  ...   \n",
      "3     2013       toyota                       rav4     gas    117291  ...   \n",
      "4     2012          bmw     1 series 128i coupe 2d   other     80465  ...   \n",
      "...    ...          ...                        ...     ...       ...  ...   \n",
      "9614  2002       toyota                       rav4     gas    150000  ...   \n",
      "9615  2008         jeep                   wrangler     gas    113573  ...   \n",
      "9616  2011         audi  a3 2.0t premium plus pzev     gas    150184  ...   \n",
      "9617  2015      porsche                    cayenne  hybrid     61943  ...   \n",
      "9618  2017          ram     1500 crew cab big horn     gas     35921  ...   \n",
      "\n",
      "     age_category_average age_category_new age_category_old  \\\n",
      "0                     0.0              1.0              0.0   \n",
      "1                     0.0              1.0              0.0   \n",
      "2                     0.0              1.0              0.0   \n",
      "3                     1.0              0.0              0.0   \n",
      "4                     1.0              0.0              0.0   \n",
      "...                   ...              ...              ...   \n",
      "9614                  0.0              0.0              1.0   \n",
      "9615                  1.0              0.0              0.0   \n",
      "9616                  1.0              0.0              0.0   \n",
      "9617                  0.0              1.0              0.0   \n",
      "9618                  0.0              1.0              0.0   \n",
      "\n",
      "     month_from_posting_date month  dayofweek  diff_years month_std  \\\n",
      "0                          4     4          5           1 -0.599647   \n",
      "1                          5     5          0           5  1.667649   \n",
      "2                          4     4          2           4 -0.599647   \n",
      "3                          4     4          5           8 -0.599647   \n",
      "4                          4     4          3           9 -0.599647   \n",
      "...                      ...   ...        ...         ...       ...   \n",
      "9614                       4     4          5          19 -0.599647   \n",
      "9615                       5     5          0          13  1.667649   \n",
      "9616                       4     4          3          10 -0.599647   \n",
      "9617                       4     4          2           6 -0.599647   \n",
      "9618                       4     4          5           4 -0.599647   \n",
      "\n",
      "     diff_years_std dayofweek_std  \n",
      "0         -1.322394      1.120284  \n",
      "1         -0.695973     -1.374972  \n",
      "2         -0.852578     -0.376870  \n",
      "3         -0.226157      1.120284  \n",
      "4         -0.069552      0.122182  \n",
      "...             ...           ...  \n",
      "9614       1.496501      1.120284  \n",
      "9615       0.556869     -1.374972  \n",
      "9616       0.087054      0.122182  \n",
      "9617      -0.539367     -0.376870  \n",
      "9618      -0.852578      1.120284  \n",
      "\n",
      "[9619 rows x 1492 columns]\n"
     ]
    }
   ],
   "source": [
    "# Create StandardScaler\n",
    "scaler = StandardScaler() \n",
    "\n",
    "# Fit and transform month column, dayofweek column, diff_years column\n",
    "df[['month_std', 'dayofweek_std', 'diff_years_std']] = scaler.fit_transform(df[['month', 'dayofweek', 'diff_years']])\n",
    "print(df)"
   ]
  },
  {
   "cell_type": "markdown",
   "id": "aba80393",
   "metadata": {
    "ExecuteTime": {
     "end_time": "2022-03-13T12:36:22.108423Z",
     "start_time": "2022-03-13T12:36:22.103687Z"
    },
    "id": "aba80393"
   },
   "source": [
    "### Задача 6. Сохранение датафрейма для этапа моделирования\n",
    "\n",
    "1. Удалите колонки, которые были исходными для формирования признаков, а также новые признаки, которые были добавлены с целью обучения.  Сохраните новый датафрейм в переменную `df_prepared`."
   ]
  },
  {
   "cell_type": "code",
   "execution_count": 57,
   "id": "13028231",
   "metadata": {},
   "outputs": [],
   "source": [
    "# 33\n",
    "columns_to_drop = ['posting_date', 'date', 'month', 'dayofweek', 'diff_years'] + numeric_cols + categorical_cols\n",
    "df_prepared = df.drop(columns_to_drop, axis=1)"
   ]
  },
  {
   "cell_type": "markdown",
   "id": "f120eaaa",
   "metadata": {
    "id": "f120eaaa"
   },
   "source": [
    "2. Распечатайте оставшийся список колонок и размерность финального датафрейма."
   ]
  },
  {
   "cell_type": "code",
   "execution_count": 58,
   "id": "13fb36c3",
   "metadata": {
    "ExecuteTime": {
     "end_time": "2022-03-15T22:41:03.176389Z",
     "start_time": "2022-03-15T22:41:03.172474Z"
    },
    "id": "13fb36c3"
   },
   "outputs": [
    {
     "name": "stdout",
     "output_type": "stream",
     "text": [
      "Index(['id', 'url', 'region_url', 'price', 'model', 'fuel', 'odometer',\n",
      "       'image_url', 'description', 'price_category',\n",
      "       ...\n",
      "       'title_status_parts only', 'title_status_rebuilt',\n",
      "       'title_status_salvage', 'age_category_average', 'age_category_new',\n",
      "       'age_category_old', 'month_from_posting_date', 'month_std',\n",
      "       'diff_years_std', 'dayofweek_std'],\n",
      "      dtype='object', length=1472)\n",
      "(9619, 1472)\n"
     ]
    }
   ],
   "source": [
    "# 34\n",
    "print(df_prepared.columns)\n",
    "print(df_prepared.shape)"
   ]
  },
  {
   "cell_type": "markdown",
   "id": "b62690ff",
   "metadata": {
    "id": "b62690ff"
   },
   "source": [
    "3. Запишите преобразованный датафрейм в файл `data/vehicles_dataset_prepared.csv`, индекс не сохраняйте."
   ]
  },
  {
   "cell_type": "code",
   "execution_count": 60,
   "id": "5b73532e",
   "metadata": {},
   "outputs": [],
   "source": [
    "# 35\n",
    "df_prepared.to_csv('C:\\\\Users\\\\user\\\\Downloads\\\\vehicles_dataset_prepared.csv' , index=False)"
   ]
  },
  {
   "cell_type": "markdown",
   "id": "6e4960b4",
   "metadata": {
    "id": "6e4960b4"
   },
   "source": [
    "## Описание преобразованного датасета:\n",
    "- `id`— идентификатор записи;\n",
    "- `is_manufacturer_name`— признак производителя автомобиля;\n",
    "\n",
    "- `region_*`— регион;\n",
    "- `x0_*`— тип топлива;\n",
    "- `manufacturer_*`— производитель;\n",
    "- `short_model_*`— сокращённая модель автомобиля;\n",
    "- `title_status_*`— статус;\n",
    "- `transmission_*`— коробка передач;\n",
    "- `state_*`— штат;\n",
    "- `age_category_*`— возрастная категория автомобиля;\n",
    "\n",
    "- `std_scaled_odometer`— количество пройденных миль (после стандартизации);\n",
    "- `year_std`— год выпуска (после стандартизации);\n",
    "- `lat_std`— широта (после стандартизации);\n",
    "- `long_std`— долгота (после стандартизации);\n",
    "- `odometer/price_std`— отношение стоимости к пробегу автомобиля (после стандартизации);\n",
    "- `desc_len_std`— количество символов в тексте объявления о продаже (после стандартизации);\n",
    "- `model_in_desc_std`— количество наименований модели автомобиля в тексте объявления о продаже (после стандартизации);\n",
    "- `model_len_std`— длина наименования автомобиля (после стандартизации);\n",
    "- `model_word_count_std`— количество слов в наименовании автомобиля (после стандартизации);\n",
    "- `month_std`— номер месяца размещения объявления о продаже автомобиля (после стандартизации);\n",
    "- `dayofweek_std`— день недели размещения объявления о продаже автомобиля (после стандартизации);\n",
    "- `diff_years_std`— количество лет между годом производства автомобиля и годом размещения объявления о продаже автомобиля (после стандартизации);\n",
    "\n",
    "- `price`— стоимость;\n",
    "- `price_category`– категория цены."
   ]
  }
 ],
 "metadata": {
  "colab": {
   "collapsed_sections": [],
   "provenance": []
  },
  "kernelspec": {
   "display_name": "Python 3 (ipykernel)",
   "language": "python",
   "name": "python3"
  },
  "language_info": {
   "codemirror_mode": {
    "name": "ipython",
    "version": 3
   },
   "file_extension": ".py",
   "mimetype": "text/x-python",
   "name": "python",
   "nbconvert_exporter": "python",
   "pygments_lexer": "ipython3",
   "version": "3.10.9"
  },
  "toc": {
   "base_numbering": 1,
   "nav_menu": {},
   "number_sections": true,
   "sideBar": true,
   "skip_h1_title": false,
   "title_cell": "Table of Contents",
   "title_sidebar": "Contents",
   "toc_cell": false,
   "toc_position": {},
   "toc_section_display": true,
   "toc_window_display": false
  }
 },
 "nbformat": 4,
 "nbformat_minor": 5
}
